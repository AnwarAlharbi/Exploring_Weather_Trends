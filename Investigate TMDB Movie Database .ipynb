{
 "cells": [
  {
   "cell_type": "markdown",
   "metadata": {},
   "source": [
    "\n",
    "# Project : Investigate a Dataset ( TMDB Movie Database )\n",
    "\n",
    "## Table of Contents\n",
    "<ul>\n",
    "<li><a href=\"#intro\">Introduction</a></li>\n",
    "<li><a href=\"#wrangling\">Data Wrangling</a></li>\n",
    "<li><a href=\"#eda\">Exploratory Data Analysis</a></li>\n",
    "<li><a href=\"#conclusions\">Conclusions</a></li>\n",
    "</ul>"
   ]
  },
  {
   "cell_type": "markdown",
   "metadata": {},
   "source": [
    "<a id='intro'></a>\n",
    "## Introduction\n",
    "\n",
    "> in this project I will analyiaz data from Movie Database (TMDb) , This data set contains informationabout 10,000 movies collected,including user ratings and revenue.\n",
    "●Certain columns, like ‘cast’and ‘genres’, contain multiplevalues separated by pipe (|)characters.\n",
    "●There are some odd charactersin the ‘cast’ column. Don’t worryabout cleaning them. You canleave them as is.\n",
    "●The final two columns endingwith “_adj” show the budget andrevenue of the associated moviein terms of 2010 dollars,accounting for inflation overtime.\n",
    "\n",
    "> ### from analyising this data we can answer Questions like :\n",
    "\n",
    ">1- what's  the trends of specidic  genres and how it was  popular from year to year? \n",
    "\n",
    ">2- which years had  the most popular moives  ?\n",
    "\n",
    ">3- which movies make the largest Revenue ?\n",
    "\n",
    ">4- which movies have the largest run times ?\n",
    "\n",
    ">5- which movies have the higher and latest average Vote?\n",
    "\n",
    ">6-  which  production company produced more movies  ?\n",
    "\n",
    ">7- How many directors get  in vote average more than 8 ?\n"
   ]
  },
  {
   "cell_type": "code",
   "execution_count": 1,
   "metadata": {},
   "outputs": [],
   "source": [
    "import pandas as pd \n",
    "import numpy as np\n",
    "import seaborn as sns\n",
    "import matplotlib.pyplot as plt\n",
    "%matplotlib inline "
   ]
  },
  {
   "cell_type": "markdown",
   "metadata": {},
   "source": [
    "<a id='wrangling'></a>\n",
    "## Data Wrangling\n",
    "\n",
    "> *I will analyze and explore this dataset, and find which genres are most popular in a certain year? \n",
    " what's the name of the movies with the lowest vote?\n",
    "### General Properties"
   ]
  },
  {
   "cell_type": "code",
   "execution_count": 2,
   "metadata": {},
   "outputs": [],
   "source": [
    "tmdb = pd.read_csv('tmdb-movies.csv')"
   ]
  },
  {
   "cell_type": "code",
   "execution_count": 3,
   "metadata": {
    "scrolled": true
   },
   "outputs": [
    {
     "data": {
      "text/html": [
       "<div>\n",
       "<style scoped>\n",
       "    .dataframe tbody tr th:only-of-type {\n",
       "        vertical-align: middle;\n",
       "    }\n",
       "\n",
       "    .dataframe tbody tr th {\n",
       "        vertical-align: top;\n",
       "    }\n",
       "\n",
       "    .dataframe thead th {\n",
       "        text-align: right;\n",
       "    }\n",
       "</style>\n",
       "<table border=\"1\" class=\"dataframe\">\n",
       "  <thead>\n",
       "    <tr style=\"text-align: right;\">\n",
       "      <th></th>\n",
       "      <th>id</th>\n",
       "      <th>imdb_id</th>\n",
       "      <th>popularity</th>\n",
       "      <th>budget</th>\n",
       "      <th>revenue</th>\n",
       "      <th>original_title</th>\n",
       "      <th>cast</th>\n",
       "      <th>homepage</th>\n",
       "      <th>director</th>\n",
       "      <th>tagline</th>\n",
       "      <th>...</th>\n",
       "      <th>overview</th>\n",
       "      <th>runtime</th>\n",
       "      <th>genres</th>\n",
       "      <th>production_companies</th>\n",
       "      <th>release_date</th>\n",
       "      <th>vote_count</th>\n",
       "      <th>vote_average</th>\n",
       "      <th>release_year</th>\n",
       "      <th>budget_adj</th>\n",
       "      <th>revenue_adj</th>\n",
       "    </tr>\n",
       "  </thead>\n",
       "  <tbody>\n",
       "    <tr>\n",
       "      <th>0</th>\n",
       "      <td>135397</td>\n",
       "      <td>tt0369610</td>\n",
       "      <td>32.985763</td>\n",
       "      <td>150000000</td>\n",
       "      <td>1513528810</td>\n",
       "      <td>Jurassic World</td>\n",
       "      <td>Chris Pratt|Bryce Dallas Howard|Irrfan Khan|Vi...</td>\n",
       "      <td>http://www.jurassicworld.com/</td>\n",
       "      <td>Colin Trevorrow</td>\n",
       "      <td>The park is open.</td>\n",
       "      <td>...</td>\n",
       "      <td>Twenty-two years after the events of Jurassic ...</td>\n",
       "      <td>124</td>\n",
       "      <td>Action|Adventure|Science Fiction|Thriller</td>\n",
       "      <td>Universal Studios|Amblin Entertainment|Legenda...</td>\n",
       "      <td>6/9/15</td>\n",
       "      <td>5562</td>\n",
       "      <td>6.5</td>\n",
       "      <td>2015</td>\n",
       "      <td>1.379999e+08</td>\n",
       "      <td>1.392446e+09</td>\n",
       "    </tr>\n",
       "    <tr>\n",
       "      <th>1</th>\n",
       "      <td>76341</td>\n",
       "      <td>tt1392190</td>\n",
       "      <td>28.419936</td>\n",
       "      <td>150000000</td>\n",
       "      <td>378436354</td>\n",
       "      <td>Mad Max: Fury Road</td>\n",
       "      <td>Tom Hardy|Charlize Theron|Hugh Keays-Byrne|Nic...</td>\n",
       "      <td>http://www.madmaxmovie.com/</td>\n",
       "      <td>George Miller</td>\n",
       "      <td>What a Lovely Day.</td>\n",
       "      <td>...</td>\n",
       "      <td>An apocalyptic story set in the furthest reach...</td>\n",
       "      <td>120</td>\n",
       "      <td>Action|Adventure|Science Fiction|Thriller</td>\n",
       "      <td>Village Roadshow Pictures|Kennedy Miller Produ...</td>\n",
       "      <td>5/13/15</td>\n",
       "      <td>6185</td>\n",
       "      <td>7.1</td>\n",
       "      <td>2015</td>\n",
       "      <td>1.379999e+08</td>\n",
       "      <td>3.481613e+08</td>\n",
       "    </tr>\n",
       "  </tbody>\n",
       "</table>\n",
       "<p>2 rows × 21 columns</p>\n",
       "</div>"
      ],
      "text/plain": [
       "       id    imdb_id  popularity     budget     revenue      original_title  \\\n",
       "0  135397  tt0369610   32.985763  150000000  1513528810      Jurassic World   \n",
       "1   76341  tt1392190   28.419936  150000000   378436354  Mad Max: Fury Road   \n",
       "\n",
       "                                                cast  \\\n",
       "0  Chris Pratt|Bryce Dallas Howard|Irrfan Khan|Vi...   \n",
       "1  Tom Hardy|Charlize Theron|Hugh Keays-Byrne|Nic...   \n",
       "\n",
       "                        homepage         director             tagline  ...  \\\n",
       "0  http://www.jurassicworld.com/  Colin Trevorrow   The park is open.  ...   \n",
       "1    http://www.madmaxmovie.com/    George Miller  What a Lovely Day.  ...   \n",
       "\n",
       "                                            overview runtime  \\\n",
       "0  Twenty-two years after the events of Jurassic ...     124   \n",
       "1  An apocalyptic story set in the furthest reach...     120   \n",
       "\n",
       "                                      genres  \\\n",
       "0  Action|Adventure|Science Fiction|Thriller   \n",
       "1  Action|Adventure|Science Fiction|Thriller   \n",
       "\n",
       "                                production_companies release_date vote_count  \\\n",
       "0  Universal Studios|Amblin Entertainment|Legenda...       6/9/15       5562   \n",
       "1  Village Roadshow Pictures|Kennedy Miller Produ...      5/13/15       6185   \n",
       "\n",
       "   vote_average  release_year    budget_adj   revenue_adj  \n",
       "0           6.5          2015  1.379999e+08  1.392446e+09  \n",
       "1           7.1          2015  1.379999e+08  3.481613e+08  \n",
       "\n",
       "[2 rows x 21 columns]"
      ]
     },
     "execution_count": 3,
     "metadata": {},
     "output_type": "execute_result"
    }
   ],
   "source": [
    "tmdb.head(2)"
   ]
  },
  {
   "cell_type": "code",
   "execution_count": 7,
   "metadata": {
    "scrolled": false
   },
   "outputs": [
    {
     "name": "stdout",
     "output_type": "stream",
     "text": [
      "<class 'pandas.core.frame.DataFrame'>\n",
      "RangeIndex: 10866 entries, 0 to 10865\n",
      "Data columns (total 21 columns):\n",
      " #   Column                Non-Null Count  Dtype  \n",
      "---  ------                --------------  -----  \n",
      " 0   id                    10866 non-null  int64  \n",
      " 1   imdb_id               10856 non-null  object \n",
      " 2   popularity            10866 non-null  float64\n",
      " 3   budget                10866 non-null  int64  \n",
      " 4   revenue               10866 non-null  int64  \n",
      " 5   original_title        10866 non-null  object \n",
      " 6   cast                  10790 non-null  object \n",
      " 7   homepage              2936 non-null   object \n",
      " 8   director              10822 non-null  object \n",
      " 9   tagline               8042 non-null   object \n",
      " 10  keywords              9373 non-null   object \n",
      " 11  overview              10862 non-null  object \n",
      " 12  runtime               10866 non-null  int64  \n",
      " 13  genres                10843 non-null  object \n",
      " 14  production_companies  9836 non-null   object \n",
      " 15  release_date          10866 non-null  object \n",
      " 16  vote_count            10866 non-null  int64  \n",
      " 17  vote_average          10866 non-null  float64\n",
      " 18  release_year          10866 non-null  int64  \n",
      " 19  budget_adj            10866 non-null  float64\n",
      " 20  revenue_adj           10866 non-null  float64\n",
      "dtypes: float64(4), int64(6), object(11)\n",
      "memory usage: 1.7+ MB\n"
     ]
    }
   ],
   "source": [
    "tmdb.info()"
   ]
  },
  {
   "cell_type": "markdown",
   "metadata": {},
   "source": [
    "### Data Cleaning "
   ]
  },
  {
   "cell_type": "markdown",
   "metadata": {},
   "source": [
    "### Drop Extraneous Columns"
   ]
  },
  {
   "cell_type": "code",
   "execution_count": 8,
   "metadata": {
    "scrolled": true
   },
   "outputs": [
    {
     "data": {
      "text/html": [
       "<div>\n",
       "<style scoped>\n",
       "    .dataframe tbody tr th:only-of-type {\n",
       "        vertical-align: middle;\n",
       "    }\n",
       "\n",
       "    .dataframe tbody tr th {\n",
       "        vertical-align: top;\n",
       "    }\n",
       "\n",
       "    .dataframe thead th {\n",
       "        text-align: right;\n",
       "    }\n",
       "</style>\n",
       "<table border=\"1\" class=\"dataframe\">\n",
       "  <thead>\n",
       "    <tr style=\"text-align: right;\">\n",
       "      <th></th>\n",
       "      <th>popularity</th>\n",
       "      <th>budget</th>\n",
       "      <th>revenue</th>\n",
       "      <th>original_title</th>\n",
       "      <th>director</th>\n",
       "      <th>runtime</th>\n",
       "      <th>genres</th>\n",
       "      <th>production_companies</th>\n",
       "      <th>vote_count</th>\n",
       "      <th>vote_average</th>\n",
       "      <th>release_year</th>\n",
       "      <th>budget_adj</th>\n",
       "      <th>revenue_adj</th>\n",
       "    </tr>\n",
       "  </thead>\n",
       "  <tbody>\n",
       "    <tr>\n",
       "      <th>0</th>\n",
       "      <td>32.985763</td>\n",
       "      <td>150000000</td>\n",
       "      <td>1513528810</td>\n",
       "      <td>Jurassic World</td>\n",
       "      <td>Colin Trevorrow</td>\n",
       "      <td>124</td>\n",
       "      <td>Action|Adventure|Science Fiction|Thriller</td>\n",
       "      <td>Universal Studios|Amblin Entertainment|Legenda...</td>\n",
       "      <td>5562</td>\n",
       "      <td>6.5</td>\n",
       "      <td>2015</td>\n",
       "      <td>1.379999e+08</td>\n",
       "      <td>1.392446e+09</td>\n",
       "    </tr>\n",
       "    <tr>\n",
       "      <th>1</th>\n",
       "      <td>28.419936</td>\n",
       "      <td>150000000</td>\n",
       "      <td>378436354</td>\n",
       "      <td>Mad Max: Fury Road</td>\n",
       "      <td>George Miller</td>\n",
       "      <td>120</td>\n",
       "      <td>Action|Adventure|Science Fiction|Thriller</td>\n",
       "      <td>Village Roadshow Pictures|Kennedy Miller Produ...</td>\n",
       "      <td>6185</td>\n",
       "      <td>7.1</td>\n",
       "      <td>2015</td>\n",
       "      <td>1.379999e+08</td>\n",
       "      <td>3.481613e+08</td>\n",
       "    </tr>\n",
       "    <tr>\n",
       "      <th>2</th>\n",
       "      <td>13.112507</td>\n",
       "      <td>110000000</td>\n",
       "      <td>295238201</td>\n",
       "      <td>Insurgent</td>\n",
       "      <td>Robert Schwentke</td>\n",
       "      <td>119</td>\n",
       "      <td>Adventure|Science Fiction|Thriller</td>\n",
       "      <td>Summit Entertainment|Mandeville Films|Red Wago...</td>\n",
       "      <td>2480</td>\n",
       "      <td>6.3</td>\n",
       "      <td>2015</td>\n",
       "      <td>1.012000e+08</td>\n",
       "      <td>2.716190e+08</td>\n",
       "    </tr>\n",
       "    <tr>\n",
       "      <th>3</th>\n",
       "      <td>11.173104</td>\n",
       "      <td>200000000</td>\n",
       "      <td>2068178225</td>\n",
       "      <td>Star Wars: The Force Awakens</td>\n",
       "      <td>J.J. Abrams</td>\n",
       "      <td>136</td>\n",
       "      <td>Action|Adventure|Science Fiction|Fantasy</td>\n",
       "      <td>Lucasfilm|Truenorth Productions|Bad Robot</td>\n",
       "      <td>5292</td>\n",
       "      <td>7.5</td>\n",
       "      <td>2015</td>\n",
       "      <td>1.839999e+08</td>\n",
       "      <td>1.902723e+09</td>\n",
       "    </tr>\n",
       "    <tr>\n",
       "      <th>4</th>\n",
       "      <td>9.335014</td>\n",
       "      <td>190000000</td>\n",
       "      <td>1506249360</td>\n",
       "      <td>Furious 7</td>\n",
       "      <td>James Wan</td>\n",
       "      <td>137</td>\n",
       "      <td>Action|Crime|Thriller</td>\n",
       "      <td>Universal Pictures|Original Film|Media Rights ...</td>\n",
       "      <td>2947</td>\n",
       "      <td>7.3</td>\n",
       "      <td>2015</td>\n",
       "      <td>1.747999e+08</td>\n",
       "      <td>1.385749e+09</td>\n",
       "    </tr>\n",
       "  </tbody>\n",
       "</table>\n",
       "</div>"
      ],
      "text/plain": [
       "   popularity     budget     revenue                original_title  \\\n",
       "0   32.985763  150000000  1513528810                Jurassic World   \n",
       "1   28.419936  150000000   378436354            Mad Max: Fury Road   \n",
       "2   13.112507  110000000   295238201                     Insurgent   \n",
       "3   11.173104  200000000  2068178225  Star Wars: The Force Awakens   \n",
       "4    9.335014  190000000  1506249360                     Furious 7   \n",
       "\n",
       "           director  runtime                                     genres  \\\n",
       "0   Colin Trevorrow      124  Action|Adventure|Science Fiction|Thriller   \n",
       "1     George Miller      120  Action|Adventure|Science Fiction|Thriller   \n",
       "2  Robert Schwentke      119         Adventure|Science Fiction|Thriller   \n",
       "3       J.J. Abrams      136   Action|Adventure|Science Fiction|Fantasy   \n",
       "4         James Wan      137                      Action|Crime|Thriller   \n",
       "\n",
       "                                production_companies  vote_count  \\\n",
       "0  Universal Studios|Amblin Entertainment|Legenda...        5562   \n",
       "1  Village Roadshow Pictures|Kennedy Miller Produ...        6185   \n",
       "2  Summit Entertainment|Mandeville Films|Red Wago...        2480   \n",
       "3          Lucasfilm|Truenorth Productions|Bad Robot        5292   \n",
       "4  Universal Pictures|Original Film|Media Rights ...        2947   \n",
       "\n",
       "   vote_average  release_year    budget_adj   revenue_adj  \n",
       "0           6.5          2015  1.379999e+08  1.392446e+09  \n",
       "1           7.1          2015  1.379999e+08  3.481613e+08  \n",
       "2           6.3          2015  1.012000e+08  2.716190e+08  \n",
       "3           7.5          2015  1.839999e+08  1.902723e+09  \n",
       "4           7.3          2015  1.747999e+08  1.385749e+09  "
      ]
     },
     "execution_count": 8,
     "metadata": {},
     "output_type": "execute_result"
    }
   ],
   "source": [
    "tmdb.drop(['id','imdb_id', 'homepage', 'overview', 'release_date','tagline','cast','keywords'], axis=1, inplace=True)\n",
    "# confirm changes\n",
    "tmdb.head()"
   ]
  },
  {
   "cell_type": "code",
   "execution_count": 9,
   "metadata": {
    "scrolled": false
   },
   "outputs": [
    {
     "name": "stdout",
     "output_type": "stream",
     "text": [
      "<class 'pandas.core.frame.DataFrame'>\n",
      "RangeIndex: 10866 entries, 0 to 10865\n",
      "Data columns (total 13 columns):\n",
      " #   Column                Non-Null Count  Dtype  \n",
      "---  ------                --------------  -----  \n",
      " 0   popularity            10866 non-null  float64\n",
      " 1   budget                10866 non-null  int64  \n",
      " 2   revenue               10866 non-null  int64  \n",
      " 3   original_title        10866 non-null  object \n",
      " 4   director              10822 non-null  object \n",
      " 5   runtime               10866 non-null  int64  \n",
      " 6   genres                10843 non-null  object \n",
      " 7   production_companies  9836 non-null   object \n",
      " 8   vote_count            10866 non-null  int64  \n",
      " 9   vote_average          10866 non-null  float64\n",
      " 10  release_year          10866 non-null  int64  \n",
      " 11  budget_adj            10866 non-null  float64\n",
      " 12  revenue_adj           10866 non-null  float64\n",
      "dtypes: float64(4), int64(5), object(4)\n",
      "memory usage: 1.1+ MB\n"
     ]
    }
   ],
   "source": [
    "tmdb.info();"
   ]
  },
  {
   "cell_type": "markdown",
   "metadata": {},
   "source": [
    " ### drop missing data and duplicate"
   ]
  },
  {
   "cell_type": "code",
   "execution_count": 10,
   "metadata": {},
   "outputs": [],
   "source": [
    "tmdb.dropna(inplace=True)"
   ]
  },
  {
   "cell_type": "code",
   "execution_count": 9,
   "metadata": {},
   "outputs": [
    {
     "data": {
      "text/plain": [
       "id                         0\n",
       "imdb_id                   10\n",
       "popularity                 0\n",
       "budget                     0\n",
       "revenue                    0\n",
       "original_title             0\n",
       "cast                      76\n",
       "homepage                7930\n",
       "director                  44\n",
       "tagline                 2824\n",
       "keywords                1493\n",
       "overview                   4\n",
       "runtime                    0\n",
       "genres                    23\n",
       "production_companies    1030\n",
       "release_date               0\n",
       "vote_count                 0\n",
       "vote_average               0\n",
       "release_year               0\n",
       "budget_adj                 0\n",
       "revenue_adj                0\n",
       "dtype: int64"
      ]
     },
     "execution_count": 9,
     "metadata": {},
     "output_type": "execute_result"
    }
   ],
   "source": [
    "tmdb.isnull().sum()"
   ]
  },
  {
   "cell_type": "code",
   "execution_count": 11,
   "metadata": {
    "scrolled": true
   },
   "outputs": [
    {
     "name": "stdout",
     "output_type": "stream",
     "text": [
      "<class 'pandas.core.frame.DataFrame'>\n",
      "Int64Index: 9807 entries, 0 to 10865\n",
      "Data columns (total 13 columns):\n",
      " #   Column                Non-Null Count  Dtype  \n",
      "---  ------                --------------  -----  \n",
      " 0   popularity            9807 non-null   float64\n",
      " 1   budget                9807 non-null   int64  \n",
      " 2   revenue               9807 non-null   int64  \n",
      " 3   original_title        9807 non-null   object \n",
      " 4   director              9807 non-null   object \n",
      " 5   runtime               9807 non-null   int64  \n",
      " 6   genres                9807 non-null   object \n",
      " 7   production_companies  9807 non-null   object \n",
      " 8   vote_count            9807 non-null   int64  \n",
      " 9   vote_average          9807 non-null   float64\n",
      " 10  release_year          9807 non-null   int64  \n",
      " 11  budget_adj            9807 non-null   float64\n",
      " 12  revenue_adj           9807 non-null   float64\n",
      "dtypes: float64(4), int64(5), object(4)\n",
      "memory usage: 1.0+ MB\n"
     ]
    }
   ],
   "source": [
    "tmdb.info();"
   ]
  },
  {
   "cell_type": "code",
   "execution_count": 11,
   "metadata": {},
   "outputs": [
    {
     "data": {
      "text/plain": [
       "8874"
      ]
     },
     "execution_count": 11,
     "metadata": {},
     "output_type": "execute_result"
    }
   ],
   "source": [
    "# check agian \n",
    "tmdb.isnull().any(axis = 1).sum()"
   ]
  },
  {
   "cell_type": "code",
   "execution_count": 13,
   "metadata": {},
   "outputs": [
    {
     "data": {
      "text/plain": [
       "1"
      ]
     },
     "execution_count": 13,
     "metadata": {},
     "output_type": "execute_result"
    }
   ],
   "source": [
    "#duplicate rows\n",
    "sum(tmdb.duplicated())"
   ]
  },
  {
   "cell_type": "code",
   "execution_count": 14,
   "metadata": {
    "scrolled": true
   },
   "outputs": [],
   "source": [
    "tmdb.drop_duplicates(inplace=True)"
   ]
  },
  {
   "cell_type": "code",
   "execution_count": 15,
   "metadata": {
    "scrolled": false
   },
   "outputs": [
    {
     "data": {
      "text/plain": [
       "0"
      ]
     },
     "execution_count": 15,
     "metadata": {},
     "output_type": "execute_result"
    }
   ],
   "source": [
    "#duplicate rows\n",
    "sum(tmdb.duplicated())"
   ]
  },
  {
   "cell_type": "code",
   "execution_count": 16,
   "metadata": {
    "scrolled": true
   },
   "outputs": [
    {
     "data": {
      "text/plain": [
       "str"
      ]
     },
     "execution_count": 16,
     "metadata": {},
     "output_type": "execute_result"
    }
   ],
   "source": [
    "# fix genres format \n",
    "type(tmdb.genres[0])"
   ]
  },
  {
   "cell_type": "code",
   "execution_count": 17,
   "metadata": {},
   "outputs": [
    {
     "data": {
      "text/plain": [
       "0        Action|Adventure|Science Fiction|Thriller\n",
       "1        Action|Adventure|Science Fiction|Thriller\n",
       "2               Adventure|Science Fiction|Thriller\n",
       "3         Action|Adventure|Science Fiction|Fantasy\n",
       "4                            Action|Crime|Thriller\n",
       "                           ...                    \n",
       "10861                                  Documentary\n",
       "10862                       Action|Adventure|Drama\n",
       "10863                               Mystery|Comedy\n",
       "10864                                Action|Comedy\n",
       "10865                                       Horror\n",
       "Name: genres, Length: 9806, dtype: object"
      ]
     },
     "execution_count": 17,
     "metadata": {},
     "output_type": "execute_result"
    }
   ],
   "source": [
    "tmdb.genres"
   ]
  },
  {
   "cell_type": "code",
   "execution_count": 18,
   "metadata": {
    "scrolled": true
   },
   "outputs": [
    {
     "data": {
      "text/plain": [
       "0        Action Adventure  Science_Fiction Thriller\n",
       "1        Action Adventure  Science_Fiction Thriller\n",
       "2               Adventure  Science_Fiction Thriller\n",
       "3         Action Adventure  Science_Fiction Fantasy\n",
       "4                             Action Crime Thriller\n",
       "                            ...                    \n",
       "10861                                   Documentary\n",
       "10862                        Action Adventure Drama\n",
       "10863                                Mystery Comedy\n",
       "10864                                 Action Comedy\n",
       "10865                                        Horror\n",
       "Name: genres, Length: 9806, dtype: object"
      ]
     },
     "execution_count": 18,
     "metadata": {},
     "output_type": "execute_result"
    }
   ],
   "source": [
    "# I replaced | to space to make it easy when fillter Genres.\n",
    "tmdb.genres = tmdb.genres.str.replace(\"|\",\" \") \n",
    "tmdb.genres = tmdb.genres.str.replace(\"Science Fiction\",\" Science_Fiction\" ) \n",
    "tmdb.genres "
   ]
  },
  {
   "cell_type": "markdown",
   "metadata": {},
   "source": [
    "<a id='eda'></a>\n",
    "## Exploratory Data Analysis\n",
    "\n",
    "\n",
    "\n"
   ]
  },
  {
   "cell_type": "markdown",
   "metadata": {},
   "source": [
    "## 1- what's  the trends of specidic  genres and how it was  popular from year to year? \n"
   ]
  },
  {
   "cell_type": "code",
   "execution_count": 199,
   "metadata": {
    "scrolled": false
   },
   "outputs": [
    {
     "data": {
      "image/png": "[encoded data removed]",
      "text/plain": [
       "<Figure size 720x432 with 1 Axes>"
      ]
     },
     "metadata": {
      "needs_background": "light"
     },
     "output_type": "display_data"
    }
   ],
   "source": [
    "# Action moives \n",
    "tmdb_Action = tmdb[tmdb['genres'].str.contains('Action')] \n",
    "tmdb_Action['release_year'].value_counts().sort_index().plot.bar(figsize= (10,6))\n",
    "plt.tight_layout();\n",
    "plt.title('Numbers of Action Moives based on release year');\n",
    "plt.xlabel('Year');\n",
    "plt.ylabel('N. of Action Moives');"
   ]
  },
  {
   "cell_type": "code",
   "execution_count": 85,
   "metadata": {},
   "outputs": [
    {
     "data": {
      "text/plain": [
       "(2235, 13)"
      ]
     },
     "execution_count": 85,
     "metadata": {},
     "output_type": "execute_result"
    }
   ],
   "source": [
    "tmdb_Action.shape"
   ]
  },
  {
   "cell_type": "markdown",
   "metadata": {},
   "source": [
    "  >  This graph indicats that we can see that  Action Moives in total 2235  and the most ot them were produced is in 2014 and the least is 1963"
   ]
  },
  {
   "cell_type": "code",
   "execution_count": 200,
   "metadata": {
    "scrolled": false
   },
   "outputs": [
    {
     "data": {
      "image/png": "[encoded data removed]",
      "text/plain": [
       "<Figure size 720x432 with 1 Axes>"
      ]
     },
     "metadata": {
      "needs_background": "light"
     },
     "output_type": "display_data"
    }
   ],
   "source": [
    "# Adventure moives\n",
    "tmdb_Adventure = tmdb[tmdb['genres'].str.contains('Adventure')]\n",
    "tmdb_Adventure['release_year'].value_counts().sort_index().plot.bar(figsize= (10,6))\n",
    "plt.tight_layout();\n",
    "plt.title('Numbers of Adventure Moives based on release year');\n",
    "plt.xlabel('Year');\n",
    "plt.ylabel('N. of Adventure Moives');"
   ]
  },
  {
   "cell_type": "code",
   "execution_count": 84,
   "metadata": {},
   "outputs": [
    {
     "data": {
      "text/plain": [
       "(1385, 13)"
      ]
     },
     "execution_count": 84,
     "metadata": {},
     "output_type": "execute_result"
    }
   ],
   "source": [
    "tmdb_Adventure.shape"
   ]
  },
  {
   "cell_type": "markdown",
   "metadata": {},
   "source": [
    " >   This graph indicats  that  Adventuere Moives in total 1385  and the most ot themm were produced is in 2009 and the least is 1964"
   ]
  },
  {
   "cell_type": "code",
   "execution_count": 202,
   "metadata": {
    "scrolled": false
   },
   "outputs": [
    {
     "data": {
      "image/png": "[encoded data removed]",
      "text/plain": [
       "<Figure size 720x432 with 1 Axes>"
      ]
     },
     "metadata": {
      "needs_background": "light"
     },
     "output_type": "display_data"
    }
   ],
   "source": [
    "#  Science Fiction moives  \n",
    "tmdb_sc_fi= tmdb[tmdb['genres'].str.contains('Science_Fiction') == True ]\n",
    "tmdb_sc_fi['release_year'].value_counts().sort_index().plot.bar(figsize= (10,6))\n",
    "plt.tight_layout();\n",
    "plt.title('Numbers of Science Fiction Moives');\n",
    "plt.xlabel('Year');\n",
    "plt.ylabel('N. of Science Fiction Moives');"
   ]
  },
  {
   "cell_type": "code",
   "execution_count": 86,
   "metadata": {},
   "outputs": [
    {
     "data": {
      "text/plain": [
       "(1137, 13)"
      ]
     },
     "execution_count": 86,
     "metadata": {},
     "output_type": "execute_result"
    }
   ],
   "source": [
    "tmdb_sc_fi.shape"
   ]
  },
  {
   "cell_type": "markdown",
   "metadata": {},
   "source": [
    " > This graph indicats  that Science Fiction Moives in total 1137 and the most ot them were produced is in 2015 and the least is 1965"
   ]
  },
  {
   "cell_type": "code",
   "execution_count": 205,
   "metadata": {
    "scrolled": false
   },
   "outputs": [
    {
     "data": {
      "image/png": "[encoded data removed]",
      "text/plain": [
       "<Figure size 720x432 with 1 Axes>"
      ]
     },
     "metadata": {
      "needs_background": "light"
     },
     "output_type": "display_data"
    }
   ],
   "source": [
    "# Thriller moives  \n",
    "tmdb_Thriller= tmdb[tmdb['genres'].str.contains('Thriller') == True ]\n",
    "tmdb_Thriller['release_year'].value_counts().sort_index().plot.bar(figsize= (10,6))\n",
    "plt.tight_layout();\n",
    "plt.title('Numbers of Thriller Moives based on release year');\n",
    "plt.xlabel('Year');\n",
    "plt.ylabel('N. of Thriller Moives');"
   ]
  },
  {
   "cell_type": "code",
   "execution_count": 88,
   "metadata": {},
   "outputs": [
    {
     "data": {
      "text/plain": [
       "(2747, 13)"
      ]
     },
     "execution_count": 88,
     "metadata": {},
     "output_type": "execute_result"
    }
   ],
   "source": [
    "tmdb_Thriller.shape"
   ]
  },
  {
   "cell_type": "markdown",
   "metadata": {},
   "source": [
    " > from this graph we can see that Thriller Moives in total 2747  and the most ot them were produced is in 2014 and the least is from 1969 . "
   ]
  },
  {
   "cell_type": "code",
   "execution_count": 206,
   "metadata": {
    "scrolled": false
   },
   "outputs": [
    {
     "data": {
      "image/png": "[encoded data removed]",
      "text/plain": [
       "<Figure size 720x432 with 1 Axes>"
      ]
     },
     "metadata": {
      "needs_background": "light"
     },
     "output_type": "display_data"
    }
   ],
   "source": [
    "# Drama moive \n",
    "tmdb_drama= tmdb[tmdb['genres'].str.contains('Drama') == True ]\n",
    "tmdb_drama['release_year'].value_counts().sort_index().plot.bar(figsize= (10,6))\n",
    "plt.tight_layout();\n",
    "plt.title('Numbers of Drama Moives based on release year');\n",
    "plt.xlabel('Year');\n",
    "plt.ylabel('N. of Drama Moives');"
   ]
  },
  {
   "cell_type": "code",
   "execution_count": 89,
   "metadata": {},
   "outputs": [
    {
     "data": {
      "text/plain": [
       "(4369, 13)"
      ]
     },
     "execution_count": 89,
     "metadata": {},
     "output_type": "execute_result"
    }
   ],
   "source": [
    "tmdb_drama.shape"
   ]
  },
  {
   "cell_type": "markdown",
   "metadata": {},
   "source": [
    " > from this graph we can see that Drama Moives in total 4369  and the most ot them were produced is in 2014 and the least is from 1963 and 1969 and Drama is the most popular genre."
   ]
  },
  {
   "cell_type": "code",
   "execution_count": 207,
   "metadata": {
    "scrolled": false
   },
   "outputs": [
    {
     "data": {
      "image/png": "[encoded data removed]",
      "text/plain": [
       "<Figure size 720x432 with 1 Axes>"
      ]
     },
     "metadata": {
      "needs_background": "light"
     },
     "output_type": "display_data"
    }
   ],
   "source": [
    "# Comedy moives \n",
    "tmdb_comedy= tmdb[tmdb['genres'].str.contains('Comedy') == True ]\n",
    "tmdb_comedy['release_year'].value_counts().sort_index().plot.bar(figsize= (10,6))\n",
    "plt.tight_layout();\n",
    "plt.title('Numbers of Comedy Moives based on release year');\n",
    "plt.xlabel('Year');\n",
    "plt.ylabel('N. of Comedy Moives');"
   ]
  },
  {
   "cell_type": "code",
   "execution_count": 90,
   "metadata": {},
   "outputs": [
    {
     "data": {
      "text/plain": [
       "(3438, 13)"
      ]
     },
     "execution_count": 90,
     "metadata": {},
     "output_type": "execute_result"
    }
   ],
   "source": [
    "tmdb_comedy.shape"
   ]
  },
  {
   "cell_type": "markdown",
   "metadata": {},
   "source": [
    " > from this visual we can see that Comady Moives in total 3438  and the most ot them were produced is in 2009 and the least is in 1962."
   ]
  },
  {
   "cell_type": "code",
   "execution_count": 208,
   "metadata": {
    "scrolled": false
   },
   "outputs": [
    {
     "data": {
      "image/png": "[encoded data removed]",
      "text/plain": [
       "<Figure size 720x432 with 1 Axes>"
      ]
     },
     "metadata": {
      "needs_background": "light"
     },
     "output_type": "display_data"
    }
   ],
   "source": [
    "# Romance moives \n",
    "tmdb_romance= tmdb[tmdb['genres'].str.contains('Romance') == True ]\n",
    "tmdb_romance['release_year'].value_counts().sort_index().plot.bar(figsize= (10,6))\n",
    "plt.tight_layout();\n",
    "plt.title('Numbers of Romance Moives based on release year');\n",
    "plt.xlabel('Year');\n",
    "plt.ylabel('N. of Romance Moives');"
   ]
  },
  {
   "cell_type": "code",
   "execution_count": 222,
   "metadata": {},
   "outputs": [
    {
     "data": {
      "text/plain": [
       "1570"
      ]
     },
     "execution_count": 222,
     "metadata": {},
     "output_type": "execute_result"
    }
   ],
   "source": [
    "tmdb_romance.shape[0]"
   ]
  },
  {
   "cell_type": "markdown",
   "metadata": {},
   "source": [
    " > from this graph we can see that romance Moives in total 1570  and the most ot them were produced is in 2014 and 2009 and the least is from 1975."
   ]
  },
  {
   "cell_type": "code",
   "execution_count": 209,
   "metadata": {
    "scrolled": false
   },
   "outputs": [
    {
     "data": {
      "image/png": "[encoded data removed]",
      "text/plain": [
       "<Figure size 720x432 with 1 Axes>"
      ]
     },
     "metadata": {
      "needs_background": "light"
     },
     "output_type": "display_data"
    }
   ],
   "source": [
    "# Crime moives\n",
    "tmdb_crime = tmdb[tmdb['genres'].str.contains('Crime') == True ]\n",
    "tmdb_crime['release_year'].value_counts().sort_index().plot.bar(figsize= (10,6))\n",
    "plt.tight_layout();\n",
    "plt.title('Numbers of Crime Moives based on release year');\n",
    "plt.xlabel('Year');\n",
    "plt.ylabel('N. of Crime Moives');"
   ]
  },
  {
   "cell_type": "code",
   "execution_count": 223,
   "metadata": {},
   "outputs": [
    {
     "data": {
      "text/plain": [
       "1299"
      ]
     },
     "execution_count": 223,
     "metadata": {},
     "output_type": "execute_result"
    }
   ],
   "source": [
    "tmdb_crime.shape[0]"
   ]
  },
  {
   "cell_type": "markdown",
   "metadata": {},
   "source": [
    " > from this graph we can see that Crime Moives in total 1299  and the most ot them were produced is in 2013 and the least is from 1960,1961, 1965 and  1977."
   ]
  },
  {
   "cell_type": "code",
   "execution_count": 219,
   "metadata": {
    "scrolled": false
   },
   "outputs": [
    {
     "data": {
      "image/png": "[encoded data removed]",
      "text/plain": [
       "<Figure size 720x432 with 1 Axes>"
      ]
     },
     "metadata": {
      "needs_background": "light"
     },
     "output_type": "display_data"
    }
   ],
   "source": [
    "# Horror moives \n",
    "tmdb_horror= tmdb[tmdb['genres'].str.contains('Horror') == True ]\n",
    "tmdb_horror['release_year'].value_counts().sort_index().plot.bar(figsize= (10,6))\n",
    "plt.tight_layout();\n",
    "plt.title('Numbers of Horror Moives based on release year');\n",
    "plt.xlabel('Year');\n",
    "plt.ylabel('N. of Horro Moives');"
   ]
  },
  {
   "cell_type": "code",
   "execution_count": 224,
   "metadata": {},
   "outputs": [
    {
     "data": {
      "text/plain": [
       "1526"
      ]
     },
     "execution_count": 224,
     "metadata": {},
     "output_type": "execute_result"
    }
   ],
   "source": [
    "tmdb_horror.shape[0]"
   ]
  },
  {
   "cell_type": "markdown",
   "metadata": {},
   "source": [
    " > from this graph we can see that Horror Moives in total 1562  and the most ot them were produced is in 2015 and the least is from 1969."
   ]
  },
  {
   "cell_type": "code",
   "execution_count": 210,
   "metadata": {
    "scrolled": false
   },
   "outputs": [
    {
     "data": {
      "image/png": "[encoded data removed]",
      "text/plain": [
       "<Figure size 720x432 with 1 Axes>"
      ]
     },
     "metadata": {
      "needs_background": "light"
     },
     "output_type": "display_data"
    }
   ],
   "source": [
    "# Family moives \n",
    "tmdb_family= tmdb[tmdb['genres'].str.contains('Family') == True ]\n",
    "tmdb_family['release_year'].value_counts().sort_index().plot.bar(figsize= (10,6))\n",
    "plt.tight_layout();\n",
    "plt.title('Numbers of Family Moives based on release year');\n",
    "plt.xlabel('Year');\n",
    "plt.ylabel('N. of Family Moives');"
   ]
  },
  {
   "cell_type": "code",
   "execution_count": 225,
   "metadata": {},
   "outputs": [
    {
     "data": {
      "text/plain": [
       "1103"
      ]
     },
     "execution_count": 225,
     "metadata": {},
     "output_type": "execute_result"
    }
   ],
   "source": [
    "tmdb_family.shape[0]"
   ]
  },
  {
   "cell_type": "markdown",
   "metadata": {},
   "source": [
    " >   This graph indicats  that  family Moives in total 1103  and the most ot themm were produced is in 2011 and the least is 1971."
   ]
  },
  {
   "cell_type": "code",
   "execution_count": 221,
   "metadata": {
    "scrolled": false
   },
   "outputs": [
    {
     "data": {
      "image/png": "[encoded data removed]",
      "text/plain": [
       "<Figure size 720x432 with 1 Axes>"
      ]
     },
     "metadata": {
      "needs_background": "light"
     },
     "output_type": "display_data"
    }
   ],
   "source": [
    "# Fantasy moives \n",
    "tmdb_fantasy= tmdb[tmdb['genres'].str.contains('Fantasy') == True ]\n",
    "tmdb_fantasy['release_year'].value_counts().sort_index().plot.bar(figsize= (10,6))\n",
    "plt.tight_layout();\n",
    "plt.title('Numbers of Fantasy Moives');\n",
    "plt.xlabel('Year');\n",
    "plt.ylabel('N. of Fantasy Moives');"
   ]
  },
  {
   "cell_type": "code",
   "execution_count": 226,
   "metadata": {},
   "outputs": [
    {
     "data": {
      "text/plain": [
       "842"
      ]
     },
     "execution_count": 226,
     "metadata": {},
     "output_type": "execute_result"
    }
   ],
   "source": [
    "tmdb_fantasy.shape[0]"
   ]
  },
  {
   "cell_type": "markdown",
   "metadata": {},
   "source": [
    " >   This graph indicats  that  Fantasy Moives in total 842  and the most ot them were produced is in 2010 and the least is 1961 , 1962 m 1972 and 1973."
   ]
  },
  {
   "cell_type": "code",
   "execution_count": 213,
   "metadata": {
    "scrolled": false
   },
   "outputs": [
    {
     "data": {
      "image/png": "[encoded data removed]",
      "text/plain": [
       "<Figure size 720x432 with 1 Axes>"
      ]
     },
     "metadata": {
      "needs_background": "light"
     },
     "output_type": "display_data"
    }
   ],
   "source": [
    "# Animation moives \n",
    "tmdb_animation= tmdb[tmdb['genres'].str.contains('Animation') == True ]\n",
    "tmdb_animation['release_year'].value_counts().sort_index().plot.bar(figsize= (10,6))\n",
    "plt.tight_layout();\n",
    "plt.title('Numbers of Animation Moives based on release year');\n",
    "plt.xlabel('Year');\n",
    "plt.ylabel('N. of Animation Moives');"
   ]
  },
  {
   "cell_type": "code",
   "execution_count": 227,
   "metadata": {},
   "outputs": [
    {
     "data": {
      "text/plain": [
       "637"
      ]
     },
     "execution_count": 227,
     "metadata": {},
     "output_type": "execute_result"
    }
   ],
   "source": [
    "tmdb_animation.shape[0]"
   ]
  },
  {
   "cell_type": "markdown",
   "metadata": {},
   "source": [
    " >   This graph indicats  that  Animation Moives in total 637  and the most ot them were produced is in 2010 and the least is 1961 ."
   ]
  },
  {
   "cell_type": "code",
   "execution_count": 218,
   "metadata": {
    "scrolled": false
   },
   "outputs": [
    {
     "data": {
      "image/png": "[encoded data removed]",
      "text/plain": [
       "<Figure size 720x432 with 1 Axes>"
      ]
     },
     "metadata": {
      "needs_background": "light"
     },
     "output_type": "display_data"
    }
   ],
   "source": [
    "# Mystery moives \n",
    "tmdb_mystery= tmdb[tmdb['genres'].str.contains('Mystery') == True ]\n",
    "tmdb_mystery['release_year'].value_counts().sort_index().plot.bar(figsize= (10,6))\n",
    "plt.tight_layout();\n",
    "plt.title('Numbers of Mystery Moives based on release year');\n",
    "plt.xlabel('Year');\n",
    "plt.ylabel('N. of Mystry Moives');"
   ]
  },
  {
   "cell_type": "code",
   "execution_count": 228,
   "metadata": {},
   "outputs": [
    {
     "data": {
      "text/plain": [
       "773"
      ]
     },
     "execution_count": 228,
     "metadata": {},
     "output_type": "execute_result"
    }
   ],
   "source": [
    "tmdb_mystery.shape[0]"
   ]
  },
  {
   "cell_type": "markdown",
   "metadata": {},
   "source": [
    " >   This graph indicats  that  Mystery Moives in total 773  and the most ot themm were produced is in 2009 and the least is 1961 and 1969"
   ]
  },
  {
   "cell_type": "code",
   "execution_count": 220,
   "metadata": {
    "scrolled": false
   },
   "outputs": [
    {
     "data": {
      "image/png": "[encoded data removed]",
      "text/plain": [
       "<Figure size 720x432 with 1 Axes>"
      ]
     },
     "metadata": {
      "needs_background": "light"
     },
     "output_type": "display_data"
    }
   ],
   "source": [
    " # Documentary  moives \n",
    "tmdb_documentary = tmdb[tmdb['genres'].str.contains('Documentary') == True ]\n",
    "tmdb_documentary ['release_year'].value_counts().sort_index().plot.bar(figsize= (10,6))\n",
    "plt.tight_layout();\n",
    "plt.title('Numbers of Documentary Moives based on release year');\n",
    "plt.xlabel('Year');\n",
    "plt.ylabel('N. of Documentary Moives');"
   ]
  },
  {
   "cell_type": "code",
   "execution_count": 230,
   "metadata": {},
   "outputs": [
    {
     "data": {
      "text/plain": [
       "331"
      ]
     },
     "execution_count": 230,
     "metadata": {},
     "output_type": "execute_result"
    }
   ],
   "source": [
    "tmdb_documentary.shape[0]"
   ]
  },
  {
   "cell_type": "markdown",
   "metadata": {},
   "source": [
    " >   This graph indicats  that Documentary Moives in total 331  and the most ot themm were produced is in 2014 ."
   ]
  },
  {
   "cell_type": "code",
   "execution_count": 217,
   "metadata": {
    "scrolled": false
   },
   "outputs": [
    {
     "data": {
      "image/png": "[encoded data removed]",
      "text/plain": [
       "<Figure size 720x432 with 1 Axes>"
      ]
     },
     "metadata": {
      "needs_background": "light"
     },
     "output_type": "display_data"
    }
   ],
   "source": [
    "# Music moives\n",
    "tmdb_music = tmdb[tmdb['genres'].str.contains('Music') == True ]\n",
    "tmdb_music ['release_year'].value_counts().sort_index().plot.bar(figsize= (10,6))\n",
    "plt.tight_layout();\n",
    "plt.title('Numbers of Music Moives based on release year');\n",
    "plt.xlabel('Year');\n",
    "plt.ylabel('N. of Muisc Moives');"
   ]
  },
  {
   "cell_type": "code",
   "execution_count": 229,
   "metadata": {},
   "outputs": [
    {
     "data": {
      "text/plain": [
       "341"
      ]
     },
     "execution_count": 229,
     "metadata": {},
     "output_type": "execute_result"
    }
   ],
   "source": [
    "tmdb_music.shape[0]"
   ]
  },
  {
   "cell_type": "markdown",
   "metadata": {},
   "source": [
    " >   This graph indicats  that  Muisc Moives in total 341  and the most ot themm were produced is in 2015 and the least is 1962."
   ]
  },
  {
   "cell_type": "code",
   "execution_count": 216,
   "metadata": {
    "scrolled": false
   },
   "outputs": [
    {
     "data": {
      "image/png": "[encoded data removed]",
      "text/plain": [
       "<Figure size 720x432 with 1 Axes>"
      ]
     },
     "metadata": {
      "needs_background": "light"
     },
     "output_type": "display_data"
    }
   ],
   "source": [
    "# History moives\n",
    "tmdb_histo= tmdb[tmdb['genres'].str.contains('History') == True ]\n",
    "tmdb_histo['release_year'].value_counts().sort_index().plot.bar(figsize= (10,6))\n",
    "plt.tight_layout();\n",
    "plt.title('Numbers of History Moives based on release year');\n",
    "plt.xlabel('Year');\n",
    "plt.ylabel('N. of History Moives');"
   ]
  },
  {
   "cell_type": "code",
   "execution_count": 231,
   "metadata": {},
   "outputs": [
    {
     "data": {
      "text/plain": [
       "308"
      ]
     },
     "execution_count": 231,
     "metadata": {},
     "output_type": "execute_result"
    }
   ],
   "source": [
    "tmdb_histo.shape[0]"
   ]
  },
  {
   "cell_type": "markdown",
   "metadata": {},
   "source": [
    " >   This graph indicats  that  Histoary Moives in total 308 and the most ot themm were produced is in 2008 and the least is 1974 and 1983."
   ]
  },
  {
   "cell_type": "code",
   "execution_count": 215,
   "metadata": {
    "scrolled": false
   },
   "outputs": [
    {
     "data": {
      "image/png": "[encoded data removed]",
      "text/plain": [
       "<Figure size 720x432 with 1 Axes>"
      ]
     },
     "metadata": {
      "needs_background": "light"
     },
     "output_type": "display_data"
    }
   ],
   "source": [
    "# war moives  \n",
    "tmdb_war= tmdb[tmdb['genres'].str.contains('War') == True ]\n",
    "tmdb_war['release_year'].value_counts().sort_index().plot.bar(figsize= (10,6))\n",
    "plt.tight_layout();\n",
    "plt.title('Numbers of War Moives based on release year');\n",
    "plt.xlabel('Year');\n",
    "plt.ylabel('N. of War Moives');"
   ]
  },
  {
   "cell_type": "code",
   "execution_count": 232,
   "metadata": {},
   "outputs": [
    {
     "data": {
      "text/plain": [
       "259"
      ]
     },
     "execution_count": 232,
     "metadata": {},
     "output_type": "execute_result"
    }
   ],
   "source": [
    "tmdb_war.shape[0]"
   ]
  },
  {
   "cell_type": "markdown",
   "metadata": {},
   "source": [
    " >   This graph indicats  that War  Moives in total 259  and the most ot them were produced is in 2014 and the least is 1963 ,"
   ]
  },
  {
   "cell_type": "code",
   "execution_count": 214,
   "metadata": {
    "scrolled": false
   },
   "outputs": [
    {
     "data": {
      "image/png": "[encoded data removed]",
      "text/plain": [
       "<Figure size 720x432 with 1 Axes>"
      ]
     },
     "metadata": {
      "needs_background": "light"
     },
     "output_type": "display_data"
    }
   ],
   "source": [
    "# Western  moives \n",
    "tmdb_westren= tmdb[tmdb['genres'].str.contains('Western') == True ]\n",
    "tmdb_westren['release_year'].value_counts().sort_index().plot.bar(figsize= (10,6))\n",
    "plt.tight_layout();\n",
    "plt.title('Numbers of Western Moives based on release year');\n",
    "plt.xlabel('Year');\n",
    "plt.ylabel('N. of Western Moives');"
   ]
  },
  {
   "cell_type": "code",
   "execution_count": 233,
   "metadata": {},
   "outputs": [
    {
     "data": {
      "text/plain": [
       "160"
      ]
     },
     "execution_count": 233,
     "metadata": {},
     "output_type": "execute_result"
    }
   ],
   "source": [
    "tmdb_westren.shape[0]"
   ]
  },
  {
   "cell_type": "markdown",
   "metadata": {},
   "source": [
    " >   This graph indicats  that  Western Moives in total 160 and the most ot themm were produced is in 1970 and 1994 and the least is 1964."
   ]
  },
  {
   "cell_type": "code",
   "execution_count": 197,
   "metadata": {
    "scrolled": false
   },
   "outputs": [
    {
     "data": {
      "image/png": "[encoded data removed]",
      "text/plain": [
       "<Figure size 720x432 with 1 Axes>"
      ]
     },
     "metadata": {
      "needs_background": "light"
     },
     "output_type": "display_data"
    }
   ],
   "source": [
    "# Foreign moives \n",
    "tmdb_FM= tmdb[tmdb['genres'].str.contains('Foreign') == True ]\n",
    "tmdb_FM['release_year'].value_counts().sort_index().plot.bar(figsize= (10,6))\n",
    "plt.tight_layout()\n",
    "plt.title('Numbers of Foreign Moives based on release year');\n",
    "plt.xlabel('Year');\n",
    "plt.ylabel('N. of Foreign Moives');"
   ]
  },
  {
   "cell_type": "code",
   "execution_count": 234,
   "metadata": {},
   "outputs": [
    {
     "data": {
      "text/plain": [
       "120"
      ]
     },
     "execution_count": 234,
     "metadata": {},
     "output_type": "execute_result"
    }
   ],
   "source": [
    "tmdb_FM.shape[0]"
   ]
  },
  {
   "cell_type": "markdown",
   "metadata": {},
   "source": [
    " >   This graph indicats  that Foreign Moives in total 120  and the most ot themm were produced is in 2008 and the least is 1960."
   ]
  },
  {
   "cell_type": "markdown",
   "metadata": {},
   "source": [
    "# I serarch about How to counts each genres , here is the Reference\n",
    "[Reference](https://stackoverflow.com/questions/38557617/how-to-get-all-the-unique-words-in-the-data-frame )\n"
   ]
  },
  {
   "cell_type": "code",
   "execution_count": 41,
   "metadata": {
    "scrolled": true
   },
   "outputs": [
    {
     "data": {
      "text/plain": [
       "Drama              4369\n",
       "Comedy             3438\n",
       "Thriller           2747\n",
       "Action             2235\n",
       "Romance            1570\n",
       "Horror             1526\n",
       "Adventure          1385\n",
       "Crime              1299\n",
       "                   1137\n",
       "Science_Fiction    1137\n",
       "Family             1103\n",
       "Fantasy             842\n",
       "Mystery             773\n",
       "Animation           637\n",
       "Music               341\n",
       "Documentary         331\n",
       "History             308\n",
       "War                 259\n",
       "Western             160\n",
       "Movie               132\n",
       "TV                  132\n",
       "Foreign             120\n",
       "dtype: int64"
      ]
     },
     "execution_count": 41,
     "metadata": {},
     "output_type": "execute_result"
    }
   ],
   "source": [
    "countGen = tmdb['genres'].str.split(' ', expand=True).stack().value_counts() \n",
    "countGen"
   ]
  },
  {
   "cell_type": "code",
   "execution_count": 42,
   "metadata": {},
   "outputs": [],
   "source": [
    "# I will drop TV and Moive form countGen\n",
    "countGen.drop(labels=['TV', 'Movie'] , inplace = True)"
   ]
  },
  {
   "cell_type": "code",
   "execution_count": 43,
   "metadata": {},
   "outputs": [],
   "source": [
    "countGen.drop(labels=[''] , inplace = True)"
   ]
  },
  {
   "cell_type": "code",
   "execution_count": 44,
   "metadata": {
    "scrolled": false
   },
   "outputs": [
    {
     "data": {
      "text/plain": [
       "Index(['Drama', 'Comedy', 'Thriller', 'Action', 'Romance', 'Horror',\n",
       "       'Adventure', 'Crime', 'Science_Fiction', 'Family', 'Fantasy', 'Mystery',\n",
       "       'Animation', 'Music', 'Documentary', 'History', 'War', 'Western',\n",
       "       'Foreign'],\n",
       "      dtype='object')"
      ]
     },
     "execution_count": 44,
     "metadata": {},
     "output_type": "execute_result"
    }
   ],
   "source": [
    "countGen.index"
   ]
  },
  {
   "cell_type": "code",
   "execution_count": 45,
   "metadata": {
    "scrolled": true
   },
   "outputs": [
    {
     "data": {
      "image/png": "[encoded data removed]",
      "text/plain": [
       "<Figure size 432x288 with 1 Axes>"
      ]
     },
     "metadata": {
      "needs_background": "light"
     },
     "output_type": "display_data"
    }
   ],
   "source": [
    "geners_plot= sns.barplot(x=countGen, y=countGen.index ,palette=\"Blues_d\") ;\n",
    "geners_plot.set_title('Most Popular Genres ');\n",
    "geners_plot.set_ylabel('Genres');\n",
    "geners_plot.set_xlabel('Numbers of Moive');\n",
    "plt.tight_layout()"
   ]
  },
  {
   "cell_type": "markdown",
   "metadata": {},
   "source": [
    "## 2- which years had  the most popular moives  ?"
   ]
  },
  {
   "cell_type": "code",
   "execution_count": 236,
   "metadata": {
    "scrolled": false
   },
   "outputs": [
    {
     "data": {
      "image/png": "[encoded data removed]",
      "text/plain": [
       "<Figure size 720x432 with 1 Axes>"
      ]
     },
     "metadata": {
      "needs_background": "light"
     },
     "output_type": "display_data"
    }
   ],
   "source": [
    "tmdb.groupby(by='popularity').max()['release_year'].value_counts().sort_index().plot.bar(figsize= (10,6))\n",
    "plt.tight_layout()\n",
    "plt.title('Popularity of Moives Dependes on Release Year ');\n",
    "plt.xlabel('Years');\n",
    "plt.ylabel('Popularity');"
   ]
  },
  {
   "cell_type": "markdown",
   "metadata": {},
   "source": [
    "We can see that in 2014 was the most Poupoluar moives were produeced ."
   ]
  },
  {
   "cell_type": "markdown",
   "metadata": {},
   "source": [
    "## 3- which movies make the largest Revenue ?"
   ]
  },
  {
   "cell_type": "code",
   "execution_count": 579,
   "metadata": {},
   "outputs": [],
   "source": [
    "max_rev = tmdb['revenue'].max()"
   ]
  },
  {
   "cell_type": "code",
   "execution_count": 580,
   "metadata": {},
   "outputs": [
    {
     "data": {
      "text/html": [
       "<div>\n",
       "<style scoped>\n",
       "    .dataframe tbody tr th:only-of-type {\n",
       "        vertical-align: middle;\n",
       "    }\n",
       "\n",
       "    .dataframe tbody tr th {\n",
       "        vertical-align: top;\n",
       "    }\n",
       "\n",
       "    .dataframe thead th {\n",
       "        text-align: right;\n",
       "    }\n",
       "</style>\n",
       "<table border=\"1\" class=\"dataframe\">\n",
       "  <thead>\n",
       "    <tr style=\"text-align: right;\">\n",
       "      <th></th>\n",
       "      <th>popularity</th>\n",
       "      <th>budget</th>\n",
       "      <th>revenue</th>\n",
       "      <th>original_title</th>\n",
       "      <th>director</th>\n",
       "      <th>runtime</th>\n",
       "      <th>genres</th>\n",
       "      <th>production_companies</th>\n",
       "      <th>vote_count</th>\n",
       "      <th>vote_average</th>\n",
       "      <th>release_year</th>\n",
       "      <th>budget_adj</th>\n",
       "      <th>revenue_adj</th>\n",
       "    </tr>\n",
       "  </thead>\n",
       "  <tbody>\n",
       "    <tr>\n",
       "      <th>1386</th>\n",
       "      <td>9.432768</td>\n",
       "      <td>237000000</td>\n",
       "      <td>2781505847</td>\n",
       "      <td>Avatar</td>\n",
       "      <td>James Cameron</td>\n",
       "      <td>162</td>\n",
       "      <td>Action Adventure Fantasy  Science_Fiction</td>\n",
       "      <td>Ingenious Film Partners|Twentieth Century Fox ...</td>\n",
       "      <td>8458</td>\n",
       "      <td>7.1</td>\n",
       "      <td>2009</td>\n",
       "      <td>2.408869e+08</td>\n",
       "      <td>2.827124e+09</td>\n",
       "    </tr>\n",
       "  </tbody>\n",
       "</table>\n",
       "</div>"
      ],
      "text/plain": [
       "      popularity     budget     revenue original_title       director  \\\n",
       "1386    9.432768  237000000  2781505847         Avatar  James Cameron   \n",
       "\n",
       "      runtime                                     genres  \\\n",
       "1386      162  Action Adventure Fantasy  Science_Fiction   \n",
       "\n",
       "                                   production_companies  vote_count  \\\n",
       "1386  Ingenious Film Partners|Twentieth Century Fox ...        8458   \n",
       "\n",
       "      vote_average  release_year    budget_adj   revenue_adj  \n",
       "1386           7.1          2009  2.408869e+08  2.827124e+09  "
      ]
     },
     "execution_count": 580,
     "metadata": {},
     "output_type": "execute_result"
    }
   ],
   "source": [
    "tmdb[tmdb['revenue'] == max_rev]"
   ]
  },
  {
   "cell_type": "markdown",
   "metadata": {},
   "source": [
    "## 4- which movies have the largest run times ?"
   ]
  },
  {
   "cell_type": "code",
   "execution_count": 581,
   "metadata": {},
   "outputs": [
    {
     "data": {
      "text/plain": [
       "877"
      ]
     },
     "execution_count": 581,
     "metadata": {},
     "output_type": "execute_result"
    }
   ],
   "source": [
    "# \n",
    "max_runTime = tmdb['runtime'].max()\n",
    "max_runTime "
   ]
  },
  {
   "cell_type": "code",
   "execution_count": 583,
   "metadata": {},
   "outputs": [
    {
     "data": {
      "text/html": [
       "<div>\n",
       "<style scoped>\n",
       "    .dataframe tbody tr th:only-of-type {\n",
       "        vertical-align: middle;\n",
       "    }\n",
       "\n",
       "    .dataframe tbody tr th {\n",
       "        vertical-align: top;\n",
       "    }\n",
       "\n",
       "    .dataframe thead th {\n",
       "        text-align: right;\n",
       "    }\n",
       "</style>\n",
       "<table border=\"1\" class=\"dataframe\">\n",
       "  <thead>\n",
       "    <tr style=\"text-align: right;\">\n",
       "      <th></th>\n",
       "      <th>popularity</th>\n",
       "      <th>budget</th>\n",
       "      <th>revenue</th>\n",
       "      <th>original_title</th>\n",
       "      <th>director</th>\n",
       "      <th>runtime</th>\n",
       "      <th>genres</th>\n",
       "      <th>production_companies</th>\n",
       "      <th>vote_count</th>\n",
       "      <th>vote_average</th>\n",
       "      <th>release_year</th>\n",
       "      <th>budget_adj</th>\n",
       "      <th>revenue_adj</th>\n",
       "    </tr>\n",
       "  </thead>\n",
       "  <tbody>\n",
       "    <tr>\n",
       "      <th>4041</th>\n",
       "      <td>0.469332</td>\n",
       "      <td>0</td>\n",
       "      <td>0</td>\n",
       "      <td>Taken</td>\n",
       "      <td>Breck Eisner|FÃ©lix EnrÃ­quez AlcalÃ¡|John Faw...</td>\n",
       "      <td>877</td>\n",
       "      <td>Science_Fiction</td>\n",
       "      <td>DreamWorks</td>\n",
       "      <td>38</td>\n",
       "      <td>6.8</td>\n",
       "      <td>2002</td>\n",
       "      <td>0.0</td>\n",
       "      <td>0.0</td>\n",
       "    </tr>\n",
       "  </tbody>\n",
       "</table>\n",
       "</div>"
      ],
      "text/plain": [
       "      popularity  budget  revenue original_title  \\\n",
       "4041    0.469332       0        0          Taken   \n",
       "\n",
       "                                               director  runtime  \\\n",
       "4041  Breck Eisner|FÃ©lix EnrÃ­quez AlcalÃ¡|John Faw...      877   \n",
       "\n",
       "                genres production_companies  vote_count  vote_average  \\\n",
       "4041   Science_Fiction           DreamWorks          38           6.8   \n",
       "\n",
       "      release_year  budget_adj  revenue_adj  \n",
       "4041          2002         0.0          0.0  "
      ]
     },
     "execution_count": 583,
     "metadata": {},
     "output_type": "execute_result"
    }
   ],
   "source": [
    "tmdb[tmdb['runtime'] == max_runTime]"
   ]
  },
  {
   "cell_type": "markdown",
   "metadata": {},
   "source": [
    " ## 5- which movies have the higher and latest average Vote?"
   ]
  },
  {
   "cell_type": "code",
   "execution_count": 584,
   "metadata": {
    "scrolled": true
   },
   "outputs": [
    {
     "data": {
      "text/html": [
       "<div>\n",
       "<style scoped>\n",
       "    .dataframe tbody tr th:only-of-type {\n",
       "        vertical-align: middle;\n",
       "    }\n",
       "\n",
       "    .dataframe tbody tr th {\n",
       "        vertical-align: top;\n",
       "    }\n",
       "\n",
       "    .dataframe thead th {\n",
       "        text-align: right;\n",
       "    }\n",
       "</style>\n",
       "<table border=\"1\" class=\"dataframe\">\n",
       "  <thead>\n",
       "    <tr style=\"text-align: right;\">\n",
       "      <th></th>\n",
       "      <th>popularity</th>\n",
       "      <th>budget</th>\n",
       "      <th>revenue</th>\n",
       "      <th>original_title</th>\n",
       "      <th>director</th>\n",
       "      <th>runtime</th>\n",
       "      <th>genres</th>\n",
       "      <th>production_companies</th>\n",
       "      <th>vote_count</th>\n",
       "      <th>vote_average</th>\n",
       "      <th>release_year</th>\n",
       "      <th>budget_adj</th>\n",
       "      <th>revenue_adj</th>\n",
       "    </tr>\n",
       "  </thead>\n",
       "  <tbody>\n",
       "    <tr>\n",
       "      <th>7772</th>\n",
       "      <td>0.121120</td>\n",
       "      <td>0</td>\n",
       "      <td>0</td>\n",
       "      <td>Transmorphers</td>\n",
       "      <td>Leigh Scott</td>\n",
       "      <td>86</td>\n",
       "      <td>Action Adventure  Science_Fiction</td>\n",
       "      <td>Asylum, The</td>\n",
       "      <td>10</td>\n",
       "      <td>1.5</td>\n",
       "      <td>2007</td>\n",
       "      <td>0.000000</td>\n",
       "      <td>0.0</td>\n",
       "    </tr>\n",
       "    <tr>\n",
       "      <th>10865</th>\n",
       "      <td>0.035919</td>\n",
       "      <td>19000</td>\n",
       "      <td>0</td>\n",
       "      <td>Manos: The Hands of Fate</td>\n",
       "      <td>Harold P. Warren</td>\n",
       "      <td>74</td>\n",
       "      <td>Horror</td>\n",
       "      <td>Norm-Iris</td>\n",
       "      <td>15</td>\n",
       "      <td>1.5</td>\n",
       "      <td>1966</td>\n",
       "      <td>127642.279154</td>\n",
       "      <td>0.0</td>\n",
       "    </tr>\n",
       "  </tbody>\n",
       "</table>\n",
       "</div>"
      ],
      "text/plain": [
       "       popularity  budget  revenue            original_title  \\\n",
       "7772     0.121120       0        0             Transmorphers   \n",
       "10865    0.035919   19000        0  Manos: The Hands of Fate   \n",
       "\n",
       "               director  runtime                             genres  \\\n",
       "7772        Leigh Scott       86  Action Adventure  Science_Fiction   \n",
       "10865  Harold P. Warren       74                             Horror   \n",
       "\n",
       "      production_companies  vote_count  vote_average  release_year  \\\n",
       "7772           Asylum, The          10           1.5          2007   \n",
       "10865            Norm-Iris          15           1.5          1966   \n",
       "\n",
       "          budget_adj  revenue_adj  \n",
       "7772        0.000000          0.0  \n",
       "10865  127642.279154          0.0  "
      ]
     },
     "execution_count": 584,
     "metadata": {},
     "output_type": "execute_result"
    }
   ],
   "source": [
    "#find which moive had the lowest average vot\n",
    "minvote= tmdb['vote_average'].min()\n",
    "tmdb[tmdb['vote_average'] == minvote]"
   ]
  },
  {
   "cell_type": "code",
   "execution_count": 681,
   "metadata": {},
   "outputs": [
    {
     "data": {
      "text/html": [
       "<div>\n",
       "<style scoped>\n",
       "    .dataframe tbody tr th:only-of-type {\n",
       "        vertical-align: middle;\n",
       "    }\n",
       "\n",
       "    .dataframe tbody tr th {\n",
       "        vertical-align: top;\n",
       "    }\n",
       "\n",
       "    .dataframe thead th {\n",
       "        text-align: right;\n",
       "    }\n",
       "</style>\n",
       "<table border=\"1\" class=\"dataframe\">\n",
       "  <thead>\n",
       "    <tr style=\"text-align: right;\">\n",
       "      <th></th>\n",
       "      <th>popularity</th>\n",
       "      <th>budget</th>\n",
       "      <th>revenue</th>\n",
       "      <th>original_title</th>\n",
       "      <th>director</th>\n",
       "      <th>runtime</th>\n",
       "      <th>genres</th>\n",
       "      <th>production_companies</th>\n",
       "      <th>vote_count</th>\n",
       "      <th>vote_average</th>\n",
       "      <th>release_year</th>\n",
       "      <th>budget_adj</th>\n",
       "      <th>revenue_adj</th>\n",
       "    </tr>\n",
       "  </thead>\n",
       "  <tbody>\n",
       "    <tr>\n",
       "      <th>6911</th>\n",
       "      <td>0.21201</td>\n",
       "      <td>0</td>\n",
       "      <td>0</td>\n",
       "      <td>Pink Floyd: Pulse</td>\n",
       "      <td>David Mallet</td>\n",
       "      <td>145</td>\n",
       "      <td>Music</td>\n",
       "      <td>SMV Enterprises|Columbia Music Video|EMI</td>\n",
       "      <td>23</td>\n",
       "      <td>8.7</td>\n",
       "      <td>2006</td>\n",
       "      <td>0.0</td>\n",
       "      <td>0.0</td>\n",
       "    </tr>\n",
       "  </tbody>\n",
       "</table>\n",
       "</div>"
      ],
      "text/plain": [
       "      popularity  budget  revenue     original_title      director  runtime  \\\n",
       "6911     0.21201       0        0  Pink Floyd: Pulse  David Mallet      145   \n",
       "\n",
       "     genres                      production_companies  vote_count  \\\n",
       "6911  Music  SMV Enterprises|Columbia Music Video|EMI          23   \n",
       "\n",
       "      vote_average  release_year  budget_adj  revenue_adj  \n",
       "6911           8.7          2006         0.0          0.0  "
      ]
     },
     "execution_count": 681,
     "metadata": {},
     "output_type": "execute_result"
    }
   ],
   "source": [
    "# which moives get higher vote average\n",
    "max_vote = tmdb['vote_average'].max()\n",
    "tmdb[tmdb['vote_average'] == max_vote]"
   ]
  },
  {
   "cell_type": "markdown",
   "metadata": {},
   "source": [
    "## 6-  which  production company produced more movies  ?"
   ]
  },
  {
   "cell_type": "code",
   "execution_count": 617,
   "metadata": {
    "scrolled": false
   },
   "outputs": [
    {
     "data": {
      "text/plain": [
       "Paramount Pictures                                                                                               156\n",
       "Universal Pictures                                                                                               133\n",
       "Warner Bros.                                                                                                      84\n",
       "Walt Disney Pictures                                                                                              75\n",
       "Columbia Pictures                                                                                                 72\n",
       "                                                                                                                ... \n",
       "Dimension Films|Focus Features|Good Machine|Radar Pictures                                                         1\n",
       "Bronson Avenue|Paramount Pictures Digital Entertainment|Mountain Dew Green Label Studios|Milchan / Van Eyssen      1\n",
       "Fuzzy Logic Pictures|Strongman|Wigwam Films                                                                        1\n",
       "Konigsberg/Sanitsky Company                                                                                        1\n",
       "Signature Pictures|MDP Worldwide|Pomarance Corporation                                                             1\n",
       "Name: production_companies, Length: 7423, dtype: int64"
      ]
     },
     "execution_count": 617,
     "metadata": {},
     "output_type": "execute_result"
    }
   ],
   "source": [
    "# counts the each production companies\n",
    "tmdb['production_companies'].value_counts()"
   ]
  },
  {
   "cell_type": "code",
   "execution_count": 237,
   "metadata": {
    "scrolled": false
   },
   "outputs": [
    {
     "data": {
      "image/png": "[encoded data removed]",
      "text/plain": [
       "<Figure size 720x432 with 1 Axes>"
      ]
     },
     "metadata": {
      "needs_background": "light"
     },
     "output_type": "display_data"
    }
   ],
   "source": [
    "# make visual for amounts of production for Paramount Pictures\n",
    "\n",
    "tmdb[tmdb['production_companies'].str.contains('Paramount Pictures')]['release_year'].value_counts().sort_index().plot.bar(figsize= (10,6))\n",
    "plt.tight_layout()\n",
    "plt.title('Numbers of moives based on Release year for Paramount Pictures'); \n",
    "plt.xlabel('Years');\n",
    "plt.ylabel('Number of moives');"
   ]
  },
  {
   "cell_type": "markdown",
   "metadata": {},
   "source": [
    " this visual indicats that in 2002 and 2004 Paramount Pictures (which is has the most porduced moivess ) have more produced moives."
   ]
  },
  {
   "cell_type": "markdown",
   "metadata": {},
   "source": [
    " ## 7 -  How many directors get  in vote average more than 8 ?"
   ]
  },
  {
   "cell_type": "code",
   "execution_count": 659,
   "metadata": {
    "scrolled": true
   },
   "outputs": [
    {
     "data": {
      "text/plain": [
       "Woody Allen         42\n",
       "Clint Eastwood      34\n",
       "Steven Spielberg    29\n",
       "Martin Scorsese     26\n",
       "Ridley Scott        23\n",
       "Name: director, dtype: int64"
      ]
     },
     "execution_count": 659,
     "metadata": {},
     "output_type": "execute_result"
    }
   ],
   "source": [
    "# whcih directors produced more moives (Top 5) \n",
    "tmdb['director'].value_counts()[:5]"
   ]
  },
  {
   "cell_type": "code",
   "execution_count": 238,
   "metadata": {
    "scrolled": false
   },
   "outputs": [
    {
     "data": {
      "image/png": "[encoded data removed]",
      "text/plain": [
       "<Figure size 720x432 with 1 Axes>"
      ]
     },
     "metadata": {
      "needs_background": "light"
     },
     "output_type": "display_data"
    }
   ],
   "source": [
    "# what are the vote averages for Woody Allen moives  \n",
    "tmdb[ tmdb['director'] == 'Woody Allen']['vote_average'].value_counts().sort_index().plot.bar(figsize= (10,6))\n",
    "plt.tight_layout()\n",
    "plt.title('Vote Averages for Woody Allen moives ');\n",
    "plt.xlabel('Vote Averages');\n",
    "plt.ylabel('Number of moives');"
   ]
  },
  {
   "cell_type": "markdown",
   "metadata": {},
   "source": [
    " this bar shows  the vote averages for Woody Allen moives , most of his moives get 6.9 vote ."
   ]
  },
  {
   "cell_type": "code",
   "execution_count": 680,
   "metadata": {
    "scrolled": true
   },
   "outputs": [
    {
     "data": {
      "text/html": [
       "<div>\n",
       "<style scoped>\n",
       "    .dataframe tbody tr th:only-of-type {\n",
       "        vertical-align: middle;\n",
       "    }\n",
       "\n",
       "    .dataframe tbody tr th {\n",
       "        vertical-align: top;\n",
       "    }\n",
       "\n",
       "    .dataframe thead th {\n",
       "        text-align: right;\n",
       "    }\n",
       "</style>\n",
       "<table border=\"1\" class=\"dataframe\">\n",
       "  <thead>\n",
       "    <tr style=\"text-align: right;\">\n",
       "      <th></th>\n",
       "      <th>popularity</th>\n",
       "      <th>budget</th>\n",
       "      <th>revenue</th>\n",
       "      <th>original_title</th>\n",
       "      <th>director</th>\n",
       "      <th>runtime</th>\n",
       "      <th>genres</th>\n",
       "      <th>production_companies</th>\n",
       "      <th>vote_count</th>\n",
       "      <th>vote_average</th>\n",
       "      <th>release_year</th>\n",
       "      <th>budget_adj</th>\n",
       "      <th>revenue_adj</th>\n",
       "    </tr>\n",
       "  </thead>\n",
       "  <tbody>\n",
       "    <tr>\n",
       "      <th>3690</th>\n",
       "      <td>0.321341</td>\n",
       "      <td>0</td>\n",
       "      <td>0</td>\n",
       "      <td>The Art of Flight</td>\n",
       "      <td>Curt Morgan</td>\n",
       "      <td>80</td>\n",
       "      <td>Adventure Documentary</td>\n",
       "      <td>Red Bull Media House|Brain Farm Digital Cinema</td>\n",
       "      <td>60</td>\n",
       "      <td>8.5</td>\n",
       "      <td>2011</td>\n",
       "      <td>0.0</td>\n",
       "      <td>0.0</td>\n",
       "    </tr>\n",
       "    <tr>\n",
       "      <th>6911</th>\n",
       "      <td>0.212010</td>\n",
       "      <td>0</td>\n",
       "      <td>0</td>\n",
       "      <td>Pink Floyd: Pulse</td>\n",
       "      <td>David Mallet</td>\n",
       "      <td>145</td>\n",
       "      <td>Music</td>\n",
       "      <td>SMV Enterprises|Columbia Music Video|EMI</td>\n",
       "      <td>23</td>\n",
       "      <td>8.7</td>\n",
       "      <td>2006</td>\n",
       "      <td>0.0</td>\n",
       "      <td>0.0</td>\n",
       "    </tr>\n",
       "    <tr>\n",
       "      <th>8221</th>\n",
       "      <td>0.194889</td>\n",
       "      <td>0</td>\n",
       "      <td>0</td>\n",
       "      <td>A Personal Journey with Martin Scorsese Throug...</td>\n",
       "      <td>Martin Scorsese|Michael Henry Wilson</td>\n",
       "      <td>225</td>\n",
       "      <td>Documentary</td>\n",
       "      <td>Miramax Films|British Film Institute (BFI)</td>\n",
       "      <td>11</td>\n",
       "      <td>8.5</td>\n",
       "      <td>1995</td>\n",
       "      <td>0.0</td>\n",
       "      <td>0.0</td>\n",
       "    </tr>\n",
       "    <tr>\n",
       "      <th>8411</th>\n",
       "      <td>0.302908</td>\n",
       "      <td>0</td>\n",
       "      <td>0</td>\n",
       "      <td>Queen - Rock Montreal</td>\n",
       "      <td>Saul Swimmer</td>\n",
       "      <td>138</td>\n",
       "      <td>Music</td>\n",
       "      <td>Edel records GmbH</td>\n",
       "      <td>14</td>\n",
       "      <td>8.5</td>\n",
       "      <td>1981</td>\n",
       "      <td>0.0</td>\n",
       "      <td>0.0</td>\n",
       "    </tr>\n",
       "  </tbody>\n",
       "</table>\n",
       "</div>"
      ],
      "text/plain": [
       "      popularity  budget  revenue  \\\n",
       "3690    0.321341       0        0   \n",
       "6911    0.212010       0        0   \n",
       "8221    0.194889       0        0   \n",
       "8411    0.302908       0        0   \n",
       "\n",
       "                                         original_title  \\\n",
       "3690                                  The Art of Flight   \n",
       "6911                                  Pink Floyd: Pulse   \n",
       "8221  A Personal Journey with Martin Scorsese Throug...   \n",
       "8411                              Queen - Rock Montreal   \n",
       "\n",
       "                                  director  runtime                 genres  \\\n",
       "3690                           Curt Morgan       80  Adventure Documentary   \n",
       "6911                          David Mallet      145                  Music   \n",
       "8221  Martin Scorsese|Michael Henry Wilson      225            Documentary   \n",
       "8411                          Saul Swimmer      138                  Music   \n",
       "\n",
       "                                production_companies  vote_count  \\\n",
       "3690  Red Bull Media House|Brain Farm Digital Cinema          60   \n",
       "6911        SMV Enterprises|Columbia Music Video|EMI          23   \n",
       "8221      Miramax Films|British Film Institute (BFI)          11   \n",
       "8411                               Edel records GmbH          14   \n",
       "\n",
       "      vote_average  release_year  budget_adj  revenue_adj  \n",
       "3690           8.5          2011         0.0          0.0  \n",
       "6911           8.7          2006         0.0          0.0  \n",
       "8221           8.5          1995         0.0          0.0  \n",
       "8411           8.5          1981         0.0          0.0  "
      ]
     },
     "execution_count": 680,
     "metadata": {},
     "output_type": "execute_result"
    }
   ],
   "source": [
    "# which moives get vote_average >= 8.5\n",
    "tmdb[tmdb['vote_average'] >= 8.5]"
   ]
  },
  {
   "cell_type": "markdown",
   "metadata": {},
   "source": [
    "<a id='conclusions'></a>\n",
    "## Conclusions\n",
    "\n",
    "form analyzing this dataset which includes 9807 samples,  I think it's small samples after doping missing values and if It has more than this number of samples it could be more helpful and we can get more insight.\n",
    "> statistical about TMDB dataset :"
   ]
  },
  {
   "cell_type": "code",
   "execution_count": 242,
   "metadata": {
    "scrolled": true
   },
   "outputs": [
    {
     "data": {
      "text/plain": [
       "popularity      6.931433e-01\n",
       "budget          1.612525e+07\n",
       "revenue         4.407785e+07\n",
       "runtime         1.027443e+02\n",
       "vote_count      2.386226e+02\n",
       "vote_average    5.966459e+00\n",
       "release_year    2.000890e+03\n",
       "budget_adj      1.935070e+07\n",
       "revenue_adj     5.685528e+07\n",
       "dtype: float64"
      ]
     },
     "execution_count": 242,
     "metadata": {},
     "output_type": "execute_result"
    }
   ],
   "source": [
    "tmdb.mean()"
   ]
  },
  {
   "cell_type": "code",
   "execution_count": 241,
   "metadata": {
    "scrolled": true
   },
   "outputs": [
    {
     "data": {
      "text/plain": [
       "popularity                                32.9858\n",
       "budget                                  425000000\n",
       "revenue                                2781505847\n",
       "original_title                           í•˜ìš¸ë§\n",
       "director                Ã€lex Pastor|David Pastor\n",
       "runtime                                       877\n",
       "genres                           Western Thriller\n",
       "production_companies                 í”„ë¡œë•ì…˜M\n",
       "vote_count                                   9767\n",
       "vote_average                                  8.7\n",
       "release_year                                 2015\n",
       "budget_adj                               4.25e+08\n",
       "revenue_adj                           2.82712e+09\n",
       "dtype: object"
      ]
     },
     "execution_count": 241,
     "metadata": {},
     "output_type": "execute_result"
    }
   ],
   "source": [
    "tmdb.max()"
   ]
  },
  {
   "cell_type": "code",
   "execution_count": 243,
   "metadata": {
    "scrolled": true
   },
   "outputs": [
    {
     "data": {
      "text/plain": [
       "popularity                                                       0.000188\n",
       "budget                                                                  0\n",
       "revenue                                                                 0\n",
       "original_title                                                   $5 a Day\n",
       "director                                                FrÃ©dÃ©ric Jardin\n",
       "runtime                                                                 0\n",
       "genres                                                    Science_Fiction\n",
       "production_companies    10th Hole Productions|Anonymous Content|Ambush...\n",
       "vote_count                                                             10\n",
       "vote_average                                                          1.5\n",
       "release_year                                                         1960\n",
       "budget_adj                                                              0\n",
       "revenue_adj                                                             0\n",
       "dtype: object"
      ]
     },
     "execution_count": 243,
     "metadata": {},
     "output_type": "execute_result"
    }
   ],
   "source": [
    "tmdb.min()"
   ]
  },
  {
   "cell_type": "code",
   "execution_count": 247,
   "metadata": {
    "scrolled": true
   },
   "outputs": [
    {
     "data": {
      "text/html": [
       "<div>\n",
       "<style scoped>\n",
       "    .dataframe tbody tr th:only-of-type {\n",
       "        vertical-align: middle;\n",
       "    }\n",
       "\n",
       "    .dataframe tbody tr th {\n",
       "        vertical-align: top;\n",
       "    }\n",
       "\n",
       "    .dataframe thead th {\n",
       "        text-align: right;\n",
       "    }\n",
       "</style>\n",
       "<table border=\"1\" class=\"dataframe\">\n",
       "  <thead>\n",
       "    <tr style=\"text-align: right;\">\n",
       "      <th></th>\n",
       "      <th>popularity</th>\n",
       "      <th>revenue</th>\n",
       "      <th>original_title</th>\n",
       "      <th>director</th>\n",
       "      <th>runtime</th>\n",
       "      <th>genres</th>\n",
       "      <th>production_companies</th>\n",
       "      <th>vote_count</th>\n",
       "      <th>vote_average</th>\n",
       "      <th>release_year</th>\n",
       "      <th>budget_adj</th>\n",
       "      <th>revenue_adj</th>\n",
       "    </tr>\n",
       "    <tr>\n",
       "      <th>budget</th>\n",
       "      <th></th>\n",
       "      <th></th>\n",
       "      <th></th>\n",
       "      <th></th>\n",
       "      <th></th>\n",
       "      <th></th>\n",
       "      <th></th>\n",
       "      <th></th>\n",
       "      <th></th>\n",
       "      <th></th>\n",
       "      <th></th>\n",
       "      <th></th>\n",
       "    </tr>\n",
       "  </thead>\n",
       "  <tbody>\n",
       "    <tr>\n",
       "      <th>0</th>\n",
       "      <td>3.927333</td>\n",
       "      <td>253625427</td>\n",
       "      <td>í•˜ìš¸ë§</td>\n",
       "      <td>Ã€lex Pastor|David Pastor</td>\n",
       "      <td>877</td>\n",
       "      <td>Western Drama Crime Romance</td>\n",
       "      <td>í”„ë¡œë•ì…˜M</td>\n",
       "      <td>1329</td>\n",
       "      <td>8.7</td>\n",
       "      <td>2015</td>\n",
       "      <td>0.000000e+00</td>\n",
       "      <td>4.559735e+08</td>\n",
       "    </tr>\n",
       "    <tr>\n",
       "      <th>1</th>\n",
       "      <td>0.520430</td>\n",
       "      <td>1378</td>\n",
       "      <td>Love, Wedding, Marriage</td>\n",
       "      <td>Robert Hall</td>\n",
       "      <td>100</td>\n",
       "      <td>Horror</td>\n",
       "      <td>Paramount Pictures|Nickelodeon Movies|Stella-d...</td>\n",
       "      <td>146</td>\n",
       "      <td>6.5</td>\n",
       "      <td>2014</td>\n",
       "      <td>1.309053e+00</td>\n",
       "      <td>1.335831e+03</td>\n",
       "    </tr>\n",
       "    <tr>\n",
       "      <th>2</th>\n",
       "      <td>0.464188</td>\n",
       "      <td>16</td>\n",
       "      <td>Death Wish 2</td>\n",
       "      <td>Michael Winner</td>\n",
       "      <td>88</td>\n",
       "      <td>Action Crime Thriller</td>\n",
       "      <td>Cannon Films</td>\n",
       "      <td>27</td>\n",
       "      <td>5.6</td>\n",
       "      <td>1982</td>\n",
       "      <td>4.519285e+00</td>\n",
       "      <td>3.615428e+01</td>\n",
       "    </tr>\n",
       "    <tr>\n",
       "      <th>3</th>\n",
       "      <td>0.317091</td>\n",
       "      <td>43</td>\n",
       "      <td>Tales from the Darkside: The Movie</td>\n",
       "      <td>Taika Waititi</td>\n",
       "      <td>97</td>\n",
       "      <td>Fantasy Horror Comedy</td>\n",
       "      <td>Paramount Pictures|Laurel Productions|Darkside...</td>\n",
       "      <td>37</td>\n",
       "      <td>7.3</td>\n",
       "      <td>2011</td>\n",
       "      <td>5.006696e+00</td>\n",
       "      <td>4.300000e+01</td>\n",
       "    </tr>\n",
       "    <tr>\n",
       "      <th>5</th>\n",
       "      <td>0.002922</td>\n",
       "      <td>0</td>\n",
       "      <td>Des Lendemains Qui Chantent</td>\n",
       "      <td>Nicolas Castro</td>\n",
       "      <td>94</td>\n",
       "      <td>Comedy</td>\n",
       "      <td>UGC Distribution</td>\n",
       "      <td>13</td>\n",
       "      <td>6.0</td>\n",
       "      <td>2014</td>\n",
       "      <td>4.605455e+00</td>\n",
       "      <td>0.000000e+00</td>\n",
       "    </tr>\n",
       "    <tr>\n",
       "      <th>...</th>\n",
       "      <td>...</td>\n",
       "      <td>...</td>\n",
       "      <td>...</td>\n",
       "      <td>...</td>\n",
       "      <td>...</td>\n",
       "      <td>...</td>\n",
       "      <td>...</td>\n",
       "      <td>...</td>\n",
       "      <td>...</td>\n",
       "      <td>...</td>\n",
       "      <td>...</td>\n",
       "      <td>...</td>\n",
       "    </tr>\n",
       "    <tr>\n",
       "      <th>270000000</th>\n",
       "      <td>1.957331</td>\n",
       "      <td>391081192</td>\n",
       "      <td>Superman Returns</td>\n",
       "      <td>Bryan Singer</td>\n",
       "      <td>154</td>\n",
       "      <td>Adventure Fantasy Action  Science_Fiction</td>\n",
       "      <td>DC Comics|Legendary Pictures|Warner Bros.|Bad ...</td>\n",
       "      <td>834</td>\n",
       "      <td>5.3</td>\n",
       "      <td>2006</td>\n",
       "      <td>2.920507e+08</td>\n",
       "      <td>4.230205e+08</td>\n",
       "    </tr>\n",
       "    <tr>\n",
       "      <th>280000000</th>\n",
       "      <td>5.944927</td>\n",
       "      <td>1405035767</td>\n",
       "      <td>Avengers: Age of Ultron</td>\n",
       "      <td>Joss Whedon</td>\n",
       "      <td>141</td>\n",
       "      <td>Action Adventure  Science_Fiction</td>\n",
       "      <td>Marvel Studios|Prime Focus|Revolution Sun Studios</td>\n",
       "      <td>4304</td>\n",
       "      <td>7.4</td>\n",
       "      <td>2015</td>\n",
       "      <td>2.575999e+08</td>\n",
       "      <td>1.292632e+09</td>\n",
       "    </tr>\n",
       "    <tr>\n",
       "      <th>300000000</th>\n",
       "      <td>4.965391</td>\n",
       "      <td>961000000</td>\n",
       "      <td>Pirates of the Caribbean: At World's End</td>\n",
       "      <td>Gore Verbinski</td>\n",
       "      <td>169</td>\n",
       "      <td>Adventure Fantasy Action</td>\n",
       "      <td>Walt Disney Pictures|Jerry Bruckheimer Films|S...</td>\n",
       "      <td>2626</td>\n",
       "      <td>6.8</td>\n",
       "      <td>2007</td>\n",
       "      <td>3.155006e+08</td>\n",
       "      <td>1.010654e+09</td>\n",
       "    </tr>\n",
       "    <tr>\n",
       "      <th>380000000</th>\n",
       "      <td>4.955130</td>\n",
       "      <td>1021683000</td>\n",
       "      <td>Pirates of the Caribbean: On Stranger Tides</td>\n",
       "      <td>Rob Marshall</td>\n",
       "      <td>136</td>\n",
       "      <td>Adventure Action Fantasy</td>\n",
       "      <td>Walt Disney Pictures|Jerry Bruckheimer Films|M...</td>\n",
       "      <td>3180</td>\n",
       "      <td>6.3</td>\n",
       "      <td>2011</td>\n",
       "      <td>3.683713e+08</td>\n",
       "      <td>9.904175e+08</td>\n",
       "    </tr>\n",
       "    <tr>\n",
       "      <th>425000000</th>\n",
       "      <td>0.250540</td>\n",
       "      <td>11087569</td>\n",
       "      <td>The Warrior's Way</td>\n",
       "      <td>Sngmoo Lee</td>\n",
       "      <td>100</td>\n",
       "      <td>Adventure Fantasy Action Western Thriller</td>\n",
       "      <td>Boram Entertainment Inc.</td>\n",
       "      <td>74</td>\n",
       "      <td>6.4</td>\n",
       "      <td>2010</td>\n",
       "      <td>4.250000e+08</td>\n",
       "      <td>1.108757e+07</td>\n",
       "    </tr>\n",
       "  </tbody>\n",
       "</table>\n",
       "<p>536 rows × 12 columns</p>\n",
       "</div>"
      ],
      "text/plain": [
       "           popularity     revenue  \\\n",
       "budget                              \n",
       "0            3.927333   253625427   \n",
       "1            0.520430        1378   \n",
       "2            0.464188          16   \n",
       "3            0.317091          43   \n",
       "5            0.002922           0   \n",
       "...               ...         ...   \n",
       "270000000    1.957331   391081192   \n",
       "280000000    5.944927  1405035767   \n",
       "300000000    4.965391   961000000   \n",
       "380000000    4.955130  1021683000   \n",
       "425000000    0.250540    11087569   \n",
       "\n",
       "                                        original_title  \\\n",
       "budget                                                   \n",
       "0                                             í•˜ìš¸ë§   \n",
       "1                              Love, Wedding, Marriage   \n",
       "2                                         Death Wish 2   \n",
       "3                   Tales from the Darkside: The Movie   \n",
       "5                          Des Lendemains Qui Chantent   \n",
       "...                                                ...   \n",
       "270000000                             Superman Returns   \n",
       "280000000                      Avengers: Age of Ultron   \n",
       "300000000     Pirates of the Caribbean: At World's End   \n",
       "380000000  Pirates of the Caribbean: On Stranger Tides   \n",
       "425000000                            The Warrior's Way   \n",
       "\n",
       "                            director  runtime  \\\n",
       "budget                                          \n",
       "0          Ã€lex Pastor|David Pastor      877   \n",
       "1                        Robert Hall      100   \n",
       "2                     Michael Winner       88   \n",
       "3                      Taika Waititi       97   \n",
       "5                     Nicolas Castro       94   \n",
       "...                              ...      ...   \n",
       "270000000               Bryan Singer      154   \n",
       "280000000                Joss Whedon      141   \n",
       "300000000             Gore Verbinski      169   \n",
       "380000000               Rob Marshall      136   \n",
       "425000000                 Sngmoo Lee      100   \n",
       "\n",
       "                                              genres  \\\n",
       "budget                                                 \n",
       "0                        Western Drama Crime Romance   \n",
       "1                                             Horror   \n",
       "2                              Action Crime Thriller   \n",
       "3                              Fantasy Horror Comedy   \n",
       "5                                             Comedy   \n",
       "...                                              ...   \n",
       "270000000  Adventure Fantasy Action  Science_Fiction   \n",
       "280000000          Action Adventure  Science_Fiction   \n",
       "300000000                   Adventure Fantasy Action   \n",
       "380000000                   Adventure Action Fantasy   \n",
       "425000000  Adventure Fantasy Action Western Thriller   \n",
       "\n",
       "                                        production_companies  vote_count  \\\n",
       "budget                                                                     \n",
       "0                                               í”„ë¡œë•ì…˜M        1329   \n",
       "1          Paramount Pictures|Nickelodeon Movies|Stella-d...         146   \n",
       "2                                               Cannon Films          27   \n",
       "3          Paramount Pictures|Laurel Productions|Darkside...          37   \n",
       "5                                           UGC Distribution          13   \n",
       "...                                                      ...         ...   \n",
       "270000000  DC Comics|Legendary Pictures|Warner Bros.|Bad ...         834   \n",
       "280000000  Marvel Studios|Prime Focus|Revolution Sun Studios        4304   \n",
       "300000000  Walt Disney Pictures|Jerry Bruckheimer Films|S...        2626   \n",
       "380000000  Walt Disney Pictures|Jerry Bruckheimer Films|M...        3180   \n",
       "425000000                           Boram Entertainment Inc.          74   \n",
       "\n",
       "           vote_average  release_year    budget_adj   revenue_adj  \n",
       "budget                                                             \n",
       "0                   8.7          2015  0.000000e+00  4.559735e+08  \n",
       "1                   6.5          2014  1.309053e+00  1.335831e+03  \n",
       "2                   5.6          1982  4.519285e+00  3.615428e+01  \n",
       "3                   7.3          2011  5.006696e+00  4.300000e+01  \n",
       "5                   6.0          2014  4.605455e+00  0.000000e+00  \n",
       "...                 ...           ...           ...           ...  \n",
       "270000000           5.3          2006  2.920507e+08  4.230205e+08  \n",
       "280000000           7.4          2015  2.575999e+08  1.292632e+09  \n",
       "300000000           6.8          2007  3.155006e+08  1.010654e+09  \n",
       "380000000           6.3          2011  3.683713e+08  9.904175e+08  \n",
       "425000000           6.4          2010  4.250000e+08  1.108757e+07  \n",
       "\n",
       "[536 rows x 12 columns]"
      ]
     },
     "execution_count": 247,
     "metadata": {},
     "output_type": "execute_result"
    }
   ],
   "source": [
    "tmdb.groupby('budget').max()"
   ]
  },
  {
   "cell_type": "code",
   "execution_count": 249,
   "metadata": {},
   "outputs": [
    {
     "data": {
      "text/html": [
       "<div>\n",
       "<style scoped>\n",
       "    .dataframe tbody tr th:only-of-type {\n",
       "        vertical-align: middle;\n",
       "    }\n",
       "\n",
       "    .dataframe tbody tr th {\n",
       "        vertical-align: top;\n",
       "    }\n",
       "\n",
       "    .dataframe thead tr th {\n",
       "        text-align: left;\n",
       "    }\n",
       "\n",
       "    .dataframe thead tr:last-of-type th {\n",
       "        text-align: right;\n",
       "    }\n",
       "</style>\n",
       "<table border=\"1\" class=\"dataframe\">\n",
       "  <thead>\n",
       "    <tr>\n",
       "      <th></th>\n",
       "      <th colspan=\"8\" halign=\"left\">popularity</th>\n",
       "      <th colspan=\"2\" halign=\"left\">budget</th>\n",
       "      <th>...</th>\n",
       "      <th colspan=\"2\" halign=\"left\">budget_adj</th>\n",
       "      <th colspan=\"8\" halign=\"left\">revenue_adj</th>\n",
       "    </tr>\n",
       "    <tr>\n",
       "      <th></th>\n",
       "      <th>count</th>\n",
       "      <th>mean</th>\n",
       "      <th>std</th>\n",
       "      <th>min</th>\n",
       "      <th>25%</th>\n",
       "      <th>50%</th>\n",
       "      <th>75%</th>\n",
       "      <th>max</th>\n",
       "      <th>count</th>\n",
       "      <th>mean</th>\n",
       "      <th>...</th>\n",
       "      <th>75%</th>\n",
       "      <th>max</th>\n",
       "      <th>count</th>\n",
       "      <th>mean</th>\n",
       "      <th>std</th>\n",
       "      <th>min</th>\n",
       "      <th>25%</th>\n",
       "      <th>50%</th>\n",
       "      <th>75%</th>\n",
       "      <th>max</th>\n",
       "    </tr>\n",
       "    <tr>\n",
       "      <th>release_year</th>\n",
       "      <th></th>\n",
       "      <th></th>\n",
       "      <th></th>\n",
       "      <th></th>\n",
       "      <th></th>\n",
       "      <th></th>\n",
       "      <th></th>\n",
       "      <th></th>\n",
       "      <th></th>\n",
       "      <th></th>\n",
       "      <th></th>\n",
       "      <th></th>\n",
       "      <th></th>\n",
       "      <th></th>\n",
       "      <th></th>\n",
       "      <th></th>\n",
       "      <th></th>\n",
       "      <th></th>\n",
       "      <th></th>\n",
       "      <th></th>\n",
       "      <th></th>\n",
       "    </tr>\n",
       "  </thead>\n",
       "  <tbody>\n",
       "    <tr>\n",
       "      <th>1960</th>\n",
       "      <td>32.0</td>\n",
       "      <td>0.458932</td>\n",
       "      <td>0.541833</td>\n",
       "      <td>0.055821</td>\n",
       "      <td>0.158091</td>\n",
       "      <td>0.268273</td>\n",
       "      <td>0.434118</td>\n",
       "      <td>2.610362</td>\n",
       "      <td>32.0</td>\n",
       "      <td>6.892796e+05</td>\n",
       "      <td>...</td>\n",
       "      <td>5.345401e+05</td>\n",
       "      <td>8.847561e+07</td>\n",
       "      <td>32.0</td>\n",
       "      <td>3.340991e+07</td>\n",
       "      <td>9.176779e+07</td>\n",
       "      <td>0.0</td>\n",
       "      <td>0.0</td>\n",
       "      <td>0.000000e+00</td>\n",
       "      <td>0.000000e+00</td>\n",
       "      <td>4.423780e+08</td>\n",
       "    </tr>\n",
       "    <tr>\n",
       "      <th>1961</th>\n",
       "      <td>30.0</td>\n",
       "      <td>0.430438</td>\n",
       "      <td>0.533781</td>\n",
       "      <td>0.027527</td>\n",
       "      <td>0.179415</td>\n",
       "      <td>0.273879</td>\n",
       "      <td>0.389402</td>\n",
       "      <td>2.631987</td>\n",
       "      <td>30.0</td>\n",
       "      <td>1.537900e+06</td>\n",
       "      <td>...</td>\n",
       "      <td>2.170221e+07</td>\n",
       "      <td>4.376917e+07</td>\n",
       "      <td>30.0</td>\n",
       "      <td>8.212073e+07</td>\n",
       "      <td>2.905560e+08</td>\n",
       "      <td>0.0</td>\n",
       "      <td>0.0</td>\n",
       "      <td>0.000000e+00</td>\n",
       "      <td>3.082079e+07</td>\n",
       "      <td>1.574815e+09</td>\n",
       "    </tr>\n",
       "    <tr>\n",
       "      <th>1962</th>\n",
       "      <td>30.0</td>\n",
       "      <td>0.465245</td>\n",
       "      <td>0.571246</td>\n",
       "      <td>0.038819</td>\n",
       "      <td>0.211450</td>\n",
       "      <td>0.299075</td>\n",
       "      <td>0.524568</td>\n",
       "      <td>3.170651</td>\n",
       "      <td>30.0</td>\n",
       "      <td>1.824071e+06</td>\n",
       "      <td>...</td>\n",
       "      <td>1.279500e+07</td>\n",
       "      <td>1.081267e+08</td>\n",
       "      <td>30.0</td>\n",
       "      <td>5.179988e+07</td>\n",
       "      <td>1.319758e+08</td>\n",
       "      <td>0.0</td>\n",
       "      <td>0.0</td>\n",
       "      <td>0.000000e+00</td>\n",
       "      <td>1.576848e+07</td>\n",
       "      <td>5.045914e+08</td>\n",
       "    </tr>\n",
       "    <tr>\n",
       "      <th>1963</th>\n",
       "      <td>34.0</td>\n",
       "      <td>0.502706</td>\n",
       "      <td>0.551040</td>\n",
       "      <td>0.045417</td>\n",
       "      <td>0.184746</td>\n",
       "      <td>0.249940</td>\n",
       "      <td>0.655374</td>\n",
       "      <td>2.508235</td>\n",
       "      <td>34.0</td>\n",
       "      <td>2.156809e+06</td>\n",
       "      <td>...</td>\n",
       "      <td>6.675168e+06</td>\n",
       "      <td>2.215444e+08</td>\n",
       "      <td>34.0</td>\n",
       "      <td>3.924580e+07</td>\n",
       "      <td>1.181207e+08</td>\n",
       "      <td>0.0</td>\n",
       "      <td>0.0</td>\n",
       "      <td>0.000000e+00</td>\n",
       "      <td>0.000000e+00</td>\n",
       "      <td>5.617734e+08</td>\n",
       "    </tr>\n",
       "    <tr>\n",
       "      <th>1964</th>\n",
       "      <td>41.0</td>\n",
       "      <td>0.421091</td>\n",
       "      <td>0.625323</td>\n",
       "      <td>0.008990</td>\n",
       "      <td>0.131149</td>\n",
       "      <td>0.194941</td>\n",
       "      <td>0.371976</td>\n",
       "      <td>3.153791</td>\n",
       "      <td>41.0</td>\n",
       "      <td>9.630039e+05</td>\n",
       "      <td>...</td>\n",
       "      <td>4.569674e+05</td>\n",
       "      <td>1.195145e+08</td>\n",
       "      <td>41.0</td>\n",
       "      <td>5.846812e+07</td>\n",
       "      <td>1.887859e+08</td>\n",
       "      <td>0.0</td>\n",
       "      <td>0.0</td>\n",
       "      <td>0.000000e+00</td>\n",
       "      <td>0.000000e+00</td>\n",
       "      <td>8.780804e+08</td>\n",
       "    </tr>\n",
       "    <tr>\n",
       "      <th>1965</th>\n",
       "      <td>34.0</td>\n",
       "      <td>0.352522</td>\n",
       "      <td>0.401984</td>\n",
       "      <td>0.014759</td>\n",
       "      <td>0.145272</td>\n",
       "      <td>0.213382</td>\n",
       "      <td>0.327872</td>\n",
       "      <td>1.910465</td>\n",
       "      <td>34.0</td>\n",
       "      <td>2.064856e+06</td>\n",
       "      <td>...</td>\n",
       "      <td>1.634983e+06</td>\n",
       "      <td>1.384113e+08</td>\n",
       "      <td>34.0</td>\n",
       "      <td>9.324072e+07</td>\n",
       "      <td>2.797591e+08</td>\n",
       "      <td>0.0</td>\n",
       "      <td>0.0</td>\n",
       "      <td>0.000000e+00</td>\n",
       "      <td>0.000000e+00</td>\n",
       "      <td>1.129535e+09</td>\n",
       "    </tr>\n",
       "    <tr>\n",
       "      <th>1966</th>\n",
       "      <td>44.0</td>\n",
       "      <td>0.308457</td>\n",
       "      <td>0.243678</td>\n",
       "      <td>0.034555</td>\n",
       "      <td>0.141003</td>\n",
       "      <td>0.245917</td>\n",
       "      <td>0.397433</td>\n",
       "      <td>1.227582</td>\n",
       "      <td>44.0</td>\n",
       "      <td>1.308064e+06</td>\n",
       "      <td>...</td>\n",
       "      <td>2.216945e+05</td>\n",
       "      <td>1.209243e+08</td>\n",
       "      <td>44.0</td>\n",
       "      <td>1.293778e+07</td>\n",
       "      <td>4.253753e+07</td>\n",
       "      <td>0.0</td>\n",
       "      <td>0.0</td>\n",
       "      <td>0.000000e+00</td>\n",
       "      <td>0.000000e+00</td>\n",
       "      <td>2.266436e+08</td>\n",
       "    </tr>\n",
       "    <tr>\n",
       "      <th>1967</th>\n",
       "      <td>37.0</td>\n",
       "      <td>0.501166</td>\n",
       "      <td>0.607523</td>\n",
       "      <td>0.054432</td>\n",
       "      <td>0.161576</td>\n",
       "      <td>0.247575</td>\n",
       "      <td>0.527322</td>\n",
       "      <td>2.550704</td>\n",
       "      <td>37.0</td>\n",
       "      <td>2.720330e+06</td>\n",
       "      <td>...</td>\n",
       "      <td>2.287867e+07</td>\n",
       "      <td>1.634191e+08</td>\n",
       "      <td>37.0</td>\n",
       "      <td>1.303527e+08</td>\n",
       "      <td>2.763431e+08</td>\n",
       "      <td>0.0</td>\n",
       "      <td>0.0</td>\n",
       "      <td>0.000000e+00</td>\n",
       "      <td>1.060118e+08</td>\n",
       "      <td>1.345551e+09</td>\n",
       "    </tr>\n",
       "    <tr>\n",
       "      <th>1968</th>\n",
       "      <td>37.0</td>\n",
       "      <td>0.506612</td>\n",
       "      <td>0.558978</td>\n",
       "      <td>0.005265</td>\n",
       "      <td>0.190352</td>\n",
       "      <td>0.378658</td>\n",
       "      <td>0.698337</td>\n",
       "      <td>3.309196</td>\n",
       "      <td>37.0</td>\n",
       "      <td>1.944297e+06</td>\n",
       "      <td>...</td>\n",
       "      <td>1.128413e+07</td>\n",
       "      <td>7.522756e+07</td>\n",
       "      <td>37.0</td>\n",
       "      <td>4.485409e+07</td>\n",
       "      <td>9.202032e+07</td>\n",
       "      <td>0.0</td>\n",
       "      <td>0.0</td>\n",
       "      <td>0.000000e+00</td>\n",
       "      <td>1.949648e+07</td>\n",
       "      <td>3.555466e+08</td>\n",
       "    </tr>\n",
       "    <tr>\n",
       "      <th>1969</th>\n",
       "      <td>29.0</td>\n",
       "      <td>0.441299</td>\n",
       "      <td>0.383963</td>\n",
       "      <td>0.021121</td>\n",
       "      <td>0.214344</td>\n",
       "      <td>0.338357</td>\n",
       "      <td>0.567962</td>\n",
       "      <td>1.778746</td>\n",
       "      <td>29.0</td>\n",
       "      <td>1.452727e+06</td>\n",
       "      <td>...</td>\n",
       "      <td>7.430330e+06</td>\n",
       "      <td>7.133117e+07</td>\n",
       "      <td>29.0</td>\n",
       "      <td>5.000501e+07</td>\n",
       "      <td>1.479421e+08</td>\n",
       "      <td>0.0</td>\n",
       "      <td>0.0</td>\n",
       "      <td>0.000000e+00</td>\n",
       "      <td>0.000000e+00</td>\n",
       "      <td>6.081511e+08</td>\n",
       "    </tr>\n",
       "    <tr>\n",
       "      <th>1970</th>\n",
       "      <td>40.0</td>\n",
       "      <td>0.341638</td>\n",
       "      <td>0.305697</td>\n",
       "      <td>0.020760</td>\n",
       "      <td>0.194468</td>\n",
       "      <td>0.282984</td>\n",
       "      <td>0.390082</td>\n",
       "      <td>1.936962</td>\n",
       "      <td>40.0</td>\n",
       "      <td>3.174049e+06</td>\n",
       "      <td>...</td>\n",
       "      <td>1.996190e+07</td>\n",
       "      <td>1.431331e+08</td>\n",
       "      <td>40.0</td>\n",
       "      <td>7.866032e+07</td>\n",
       "      <td>1.820513e+08</td>\n",
       "      <td>0.0</td>\n",
       "      <td>0.0</td>\n",
       "      <td>0.000000e+00</td>\n",
       "      <td>2.183363e+07</td>\n",
       "      <td>7.660726e+08</td>\n",
       "    </tr>\n",
       "    <tr>\n",
       "      <th>1971</th>\n",
       "      <td>55.0</td>\n",
       "      <td>0.448112</td>\n",
       "      <td>0.545079</td>\n",
       "      <td>0.000188</td>\n",
       "      <td>0.141973</td>\n",
       "      <td>0.306073</td>\n",
       "      <td>0.541644</td>\n",
       "      <td>3.072555</td>\n",
       "      <td>55.0</td>\n",
       "      <td>1.381764e+06</td>\n",
       "      <td>...</td>\n",
       "      <td>7.929700e+06</td>\n",
       "      <td>1.077039e+08</td>\n",
       "      <td>55.0</td>\n",
       "      <td>3.964586e+07</td>\n",
       "      <td>1.077372e+08</td>\n",
       "      <td>0.0</td>\n",
       "      <td>0.0</td>\n",
       "      <td>0.000000e+00</td>\n",
       "      <td>6.561860e+06</td>\n",
       "      <td>6.246826e+08</td>\n",
       "    </tr>\n",
       "    <tr>\n",
       "      <th>1972</th>\n",
       "      <td>37.0</td>\n",
       "      <td>0.469449</td>\n",
       "      <td>0.915215</td>\n",
       "      <td>0.024345</td>\n",
       "      <td>0.198304</td>\n",
       "      <td>0.269252</td>\n",
       "      <td>0.432033</td>\n",
       "      <td>5.738034</td>\n",
       "      <td>37.0</td>\n",
       "      <td>9.805204e+05</td>\n",
       "      <td>...</td>\n",
       "      <td>5.214561e+06</td>\n",
       "      <td>3.128737e+07</td>\n",
       "      <td>37.0</td>\n",
       "      <td>6.972434e+07</td>\n",
       "      <td>2.247772e+08</td>\n",
       "      <td>0.0</td>\n",
       "      <td>0.0</td>\n",
       "      <td>0.000000e+00</td>\n",
       "      <td>3.128737e+07</td>\n",
       "      <td>1.277914e+09</td>\n",
       "    </tr>\n",
       "    <tr>\n",
       "      <th>1973</th>\n",
       "      <td>55.0</td>\n",
       "      <td>0.494462</td>\n",
       "      <td>0.447417</td>\n",
       "      <td>0.021941</td>\n",
       "      <td>0.202036</td>\n",
       "      <td>0.383880</td>\n",
       "      <td>0.652778</td>\n",
       "      <td>2.272486</td>\n",
       "      <td>55.0</td>\n",
       "      <td>1.185287e+06</td>\n",
       "      <td>...</td>\n",
       "      <td>2.455580e+06</td>\n",
       "      <td>7.366739e+07</td>\n",
       "      <td>55.0</td>\n",
       "      <td>1.092939e+08</td>\n",
       "      <td>3.338741e+08</td>\n",
       "      <td>0.0</td>\n",
       "      <td>0.0</td>\n",
       "      <td>0.000000e+00</td>\n",
       "      <td>2.908535e+07</td>\n",
       "      <td>2.167325e+09</td>\n",
       "    </tr>\n",
       "    <tr>\n",
       "      <th>1974</th>\n",
       "      <td>44.0</td>\n",
       "      <td>0.469544</td>\n",
       "      <td>0.561704</td>\n",
       "      <td>0.029670</td>\n",
       "      <td>0.189727</td>\n",
       "      <td>0.317458</td>\n",
       "      <td>0.463954</td>\n",
       "      <td>3.264571</td>\n",
       "      <td>44.0</td>\n",
       "      <td>1.749318e+06</td>\n",
       "      <td>...</td>\n",
       "      <td>1.171905e+07</td>\n",
       "      <td>6.191197e+07</td>\n",
       "      <td>44.0</td>\n",
       "      <td>8.166549e+07</td>\n",
       "      <td>1.459223e+08</td>\n",
       "      <td>0.0</td>\n",
       "      <td>0.0</td>\n",
       "      <td>0.000000e+00</td>\n",
       "      <td>1.185551e+08</td>\n",
       "      <td>5.284629e+08</td>\n",
       "    </tr>\n",
       "    <tr>\n",
       "      <th>1975</th>\n",
       "      <td>42.0</td>\n",
       "      <td>0.533266</td>\n",
       "      <td>0.672451</td>\n",
       "      <td>0.017468</td>\n",
       "      <td>0.180148</td>\n",
       "      <td>0.315883</td>\n",
       "      <td>0.524183</td>\n",
       "      <td>3.258151</td>\n",
       "      <td>42.0</td>\n",
       "      <td>1.339976e+06</td>\n",
       "      <td>...</td>\n",
       "      <td>4.051821e+06</td>\n",
       "      <td>6.077732e+07</td>\n",
       "      <td>42.0</td>\n",
       "      <td>9.237091e+07</td>\n",
       "      <td>3.050121e+08</td>\n",
       "      <td>0.0</td>\n",
       "      <td>0.0</td>\n",
       "      <td>0.000000e+00</td>\n",
       "      <td>5.579808e+07</td>\n",
       "      <td>1.907006e+09</td>\n",
       "    </tr>\n",
       "    <tr>\n",
       "      <th>1976</th>\n",
       "      <td>46.0</td>\n",
       "      <td>0.476533</td>\n",
       "      <td>0.515930</td>\n",
       "      <td>0.002381</td>\n",
       "      <td>0.194633</td>\n",
       "      <td>0.327108</td>\n",
       "      <td>0.568484</td>\n",
       "      <td>2.582657</td>\n",
       "      <td>46.0</td>\n",
       "      <td>2.655435e+06</td>\n",
       "      <td>...</td>\n",
       "      <td>7.471811e+06</td>\n",
       "      <td>1.341094e+08</td>\n",
       "      <td>46.0</td>\n",
       "      <td>6.672199e+07</td>\n",
       "      <td>1.264304e+08</td>\n",
       "      <td>0.0</td>\n",
       "      <td>0.0</td>\n",
       "      <td>0.000000e+00</td>\n",
       "      <td>1.051683e+08</td>\n",
       "      <td>6.169034e+08</td>\n",
       "    </tr>\n",
       "    <tr>\n",
       "      <th>1977</th>\n",
       "      <td>55.0</td>\n",
       "      <td>0.647046</td>\n",
       "      <td>1.622872</td>\n",
       "      <td>0.046957</td>\n",
       "      <td>0.156863</td>\n",
       "      <td>0.318679</td>\n",
       "      <td>0.531184</td>\n",
       "      <td>12.037933</td>\n",
       "      <td>55.0</td>\n",
       "      <td>2.937818e+06</td>\n",
       "      <td>...</td>\n",
       "      <td>1.241234e+07</td>\n",
       "      <td>7.915118e+07</td>\n",
       "      <td>55.0</td>\n",
       "      <td>1.426411e+08</td>\n",
       "      <td>4.214381e+08</td>\n",
       "      <td>0.0</td>\n",
       "      <td>0.0</td>\n",
       "      <td>0.000000e+00</td>\n",
       "      <td>9.788601e+07</td>\n",
       "      <td>2.789712e+09</td>\n",
       "    </tr>\n",
       "    <tr>\n",
       "      <th>1978</th>\n",
       "      <td>61.0</td>\n",
       "      <td>0.430003</td>\n",
       "      <td>0.376905</td>\n",
       "      <td>0.044675</td>\n",
       "      <td>0.177276</td>\n",
       "      <td>0.324081</td>\n",
       "      <td>0.512719</td>\n",
       "      <td>1.697618</td>\n",
       "      <td>61.0</td>\n",
       "      <td>3.426181e+06</td>\n",
       "      <td>...</td>\n",
       "      <td>1.002810e+07</td>\n",
       "      <td>1.838485e+08</td>\n",
       "      <td>61.0</td>\n",
       "      <td>7.416339e+07</td>\n",
       "      <td>1.799033e+08</td>\n",
       "      <td>0.0</td>\n",
       "      <td>0.0</td>\n",
       "      <td>0.000000e+00</td>\n",
       "      <td>7.036068e+07</td>\n",
       "      <td>1.003539e+09</td>\n",
       "    </tr>\n",
       "    <tr>\n",
       "      <th>1979</th>\n",
       "      <td>56.0</td>\n",
       "      <td>0.597555</td>\n",
       "      <td>0.786180</td>\n",
       "      <td>0.019263</td>\n",
       "      <td>0.166411</td>\n",
       "      <td>0.373479</td>\n",
       "      <td>0.574137</td>\n",
       "      <td>4.935897</td>\n",
       "      <td>56.0</td>\n",
       "      <td>4.550250e+06</td>\n",
       "      <td>...</td>\n",
       "      <td>1.201822e+07</td>\n",
       "      <td>1.051594e+08</td>\n",
       "      <td>56.0</td>\n",
       "      <td>9.039388e+07</td>\n",
       "      <td>1.442887e+08</td>\n",
       "      <td>0.0</td>\n",
       "      <td>0.0</td>\n",
       "      <td>0.000000e+00</td>\n",
       "      <td>1.152380e+08</td>\n",
       "      <td>6.318577e+08</td>\n",
       "    </tr>\n",
       "    <tr>\n",
       "      <th>1980</th>\n",
       "      <td>73.0</td>\n",
       "      <td>0.519920</td>\n",
       "      <td>0.737230</td>\n",
       "      <td>0.031133</td>\n",
       "      <td>0.156245</td>\n",
       "      <td>0.307691</td>\n",
       "      <td>0.590127</td>\n",
       "      <td>5.488441</td>\n",
       "      <td>73.0</td>\n",
       "      <td>4.965753e+06</td>\n",
       "      <td>...</td>\n",
       "      <td>1.323018e+07</td>\n",
       "      <td>1.428860e+08</td>\n",
       "      <td>73.0</td>\n",
       "      <td>6.410884e+07</td>\n",
       "      <td>1.764383e+08</td>\n",
       "      <td>0.0</td>\n",
       "      <td>0.0</td>\n",
       "      <td>1.164256e+07</td>\n",
       "      <td>5.949072e+07</td>\n",
       "      <td>1.424626e+09</td>\n",
       "    </tr>\n",
       "    <tr>\n",
       "      <th>1981</th>\n",
       "      <td>78.0</td>\n",
       "      <td>0.455818</td>\n",
       "      <td>0.607110</td>\n",
       "      <td>0.046679</td>\n",
       "      <td>0.162411</td>\n",
       "      <td>0.293978</td>\n",
       "      <td>0.508226</td>\n",
       "      <td>4.578300</td>\n",
       "      <td>78.0</td>\n",
       "      <td>4.343049e+06</td>\n",
       "      <td>...</td>\n",
       "      <td>1.408937e+07</td>\n",
       "      <td>7.674211e+07</td>\n",
       "      <td>78.0</td>\n",
       "      <td>5.456211e+07</td>\n",
       "      <td>1.263385e+08</td>\n",
       "      <td>0.0</td>\n",
       "      <td>0.0</td>\n",
       "      <td>3.791132e+05</td>\n",
       "      <td>6.863562e+07</td>\n",
       "      <td>9.351169e+08</td>\n",
       "    </tr>\n",
       "    <tr>\n",
       "      <th>1982</th>\n",
       "      <td>80.0</td>\n",
       "      <td>0.547968</td>\n",
       "      <td>0.654682</td>\n",
       "      <td>0.003659</td>\n",
       "      <td>0.169200</td>\n",
       "      <td>0.379799</td>\n",
       "      <td>0.610955</td>\n",
       "      <td>4.215642</td>\n",
       "      <td>80.0</td>\n",
       "      <td>5.472438e+06</td>\n",
       "      <td>...</td>\n",
       "      <td>1.920696e+07</td>\n",
       "      <td>1.129821e+08</td>\n",
       "      <td>80.0</td>\n",
       "      <td>6.944005e+07</td>\n",
       "      <td>2.122078e+08</td>\n",
       "      <td>0.0</td>\n",
       "      <td>0.0</td>\n",
       "      <td>1.807714e+01</td>\n",
       "      <td>6.125279e+07</td>\n",
       "      <td>1.791694e+09</td>\n",
       "    </tr>\n",
       "    <tr>\n",
       "      <th>1983</th>\n",
       "      <td>77.0</td>\n",
       "      <td>0.555111</td>\n",
       "      <td>0.683445</td>\n",
       "      <td>0.015727</td>\n",
       "      <td>0.218042</td>\n",
       "      <td>0.373977</td>\n",
       "      <td>0.589232</td>\n",
       "      <td>4.828854</td>\n",
       "      <td>77.0</td>\n",
       "      <td>6.727369e+06</td>\n",
       "      <td>...</td>\n",
       "      <td>2.189312e+07</td>\n",
       "      <td>8.888607e+07</td>\n",
       "      <td>77.0</td>\n",
       "      <td>6.560911e+07</td>\n",
       "      <td>1.573748e+08</td>\n",
       "      <td>0.0</td>\n",
       "      <td>0.0</td>\n",
       "      <td>2.012157e+07</td>\n",
       "      <td>6.108180e+07</td>\n",
       "      <td>1.253819e+09</td>\n",
       "    </tr>\n",
       "    <tr>\n",
       "      <th>1984</th>\n",
       "      <td>100.0</td>\n",
       "      <td>0.611466</td>\n",
       "      <td>0.679996</td>\n",
       "      <td>0.059713</td>\n",
       "      <td>0.236434</td>\n",
       "      <td>0.376775</td>\n",
       "      <td>0.634297</td>\n",
       "      <td>4.831966</td>\n",
       "      <td>100.0</td>\n",
       "      <td>7.292120e+06</td>\n",
       "      <td>...</td>\n",
       "      <td>1.941614e+07</td>\n",
       "      <td>1.217444e+08</td>\n",
       "      <td>100.0</td>\n",
       "      <td>5.532077e+07</td>\n",
       "      <td>1.216594e+08</td>\n",
       "      <td>0.0</td>\n",
       "      <td>0.0</td>\n",
       "      <td>3.693538e+06</td>\n",
       "      <td>6.031819e+07</td>\n",
       "      <td>6.989810e+08</td>\n",
       "    </tr>\n",
       "    <tr>\n",
       "      <th>1985</th>\n",
       "      <td>106.0</td>\n",
       "      <td>0.596628</td>\n",
       "      <td>0.696756</td>\n",
       "      <td>0.047123</td>\n",
       "      <td>0.230921</td>\n",
       "      <td>0.423010</td>\n",
       "      <td>0.689068</td>\n",
       "      <td>6.095293</td>\n",
       "      <td>106.0</td>\n",
       "      <td>7.063402e+06</td>\n",
       "      <td>...</td>\n",
       "      <td>2.479050e+07</td>\n",
       "      <td>1.013583e+08</td>\n",
       "      <td>106.0</td>\n",
       "      <td>5.499687e+07</td>\n",
       "      <td>1.204379e+08</td>\n",
       "      <td>0.0</td>\n",
       "      <td>0.0</td>\n",
       "      <td>1.773003e+07</td>\n",
       "      <td>5.178654e+07</td>\n",
       "      <td>7.725728e+08</td>\n",
       "    </tr>\n",
       "    <tr>\n",
       "      <th>1986</th>\n",
       "      <td>110.0</td>\n",
       "      <td>0.539466</td>\n",
       "      <td>0.396400</td>\n",
       "      <td>0.058402</td>\n",
       "      <td>0.279664</td>\n",
       "      <td>0.429353</td>\n",
       "      <td>0.677767</td>\n",
       "      <td>2.485419</td>\n",
       "      <td>110.0</td>\n",
       "      <td>6.306465e+06</td>\n",
       "      <td>...</td>\n",
       "      <td>2.287817e+07</td>\n",
       "      <td>7.957626e+07</td>\n",
       "      <td>110.0</td>\n",
       "      <td>5.422158e+07</td>\n",
       "      <td>1.058258e+08</td>\n",
       "      <td>0.0</td>\n",
       "      <td>0.0</td>\n",
       "      <td>1.537765e+07</td>\n",
       "      <td>7.662681e+07</td>\n",
       "      <td>7.098811e+08</td>\n",
       "    </tr>\n",
       "    <tr>\n",
       "      <th>1987</th>\n",
       "      <td>114.0</td>\n",
       "      <td>0.533222</td>\n",
       "      <td>0.501649</td>\n",
       "      <td>0.005529</td>\n",
       "      <td>0.224535</td>\n",
       "      <td>0.366848</td>\n",
       "      <td>0.612738</td>\n",
       "      <td>3.474728</td>\n",
       "      <td>114.0</td>\n",
       "      <td>6.223297e+06</td>\n",
       "      <td>...</td>\n",
       "      <td>2.494805e+07</td>\n",
       "      <td>7.676322e+07</td>\n",
       "      <td>114.0</td>\n",
       "      <td>5.828121e+07</td>\n",
       "      <td>1.034790e+08</td>\n",
       "      <td>0.0</td>\n",
       "      <td>0.0</td>\n",
       "      <td>2.175751e+07</td>\n",
       "      <td>7.488600e+07</td>\n",
       "      <td>6.143853e+08</td>\n",
       "    </tr>\n",
       "    <tr>\n",
       "      <th>1988</th>\n",
       "      <td>133.0</td>\n",
       "      <td>0.489926</td>\n",
       "      <td>0.483044</td>\n",
       "      <td>0.019075</td>\n",
       "      <td>0.205910</td>\n",
       "      <td>0.340089</td>\n",
       "      <td>0.573640</td>\n",
       "      <td>3.777441</td>\n",
       "      <td>133.0</td>\n",
       "      <td>6.938707e+06</td>\n",
       "      <td>...</td>\n",
       "      <td>1.843891e+07</td>\n",
       "      <td>1.290724e+08</td>\n",
       "      <td>133.0</td>\n",
       "      <td>5.183637e+07</td>\n",
       "      <td>1.136993e+08</td>\n",
       "      <td>0.0</td>\n",
       "      <td>0.0</td>\n",
       "      <td>7.221236e+06</td>\n",
       "      <td>3.961924e+07</td>\n",
       "      <td>6.542594e+08</td>\n",
       "    </tr>\n",
       "    <tr>\n",
       "      <th>1989</th>\n",
       "      <td>129.0</td>\n",
       "      <td>0.584273</td>\n",
       "      <td>0.694867</td>\n",
       "      <td>0.046709</td>\n",
       "      <td>0.217076</td>\n",
       "      <td>0.360056</td>\n",
       "      <td>0.547658</td>\n",
       "      <td>4.143585</td>\n",
       "      <td>129.0</td>\n",
       "      <td>8.369429e+06</td>\n",
       "      <td>...</td>\n",
       "      <td>2.427399e+07</td>\n",
       "      <td>1.231289e+08</td>\n",
       "      <td>129.0</td>\n",
       "      <td>7.042654e+07</td>\n",
       "      <td>1.420773e+08</td>\n",
       "      <td>0.0</td>\n",
       "      <td>0.0</td>\n",
       "      <td>6.966156e+06</td>\n",
       "      <td>6.852352e+07</td>\n",
       "      <td>8.340611e+08</td>\n",
       "    </tr>\n",
       "    <tr>\n",
       "      <th>1990</th>\n",
       "      <td>126.0</td>\n",
       "      <td>0.553660</td>\n",
       "      <td>0.546329</td>\n",
       "      <td>0.024987</td>\n",
       "      <td>0.255929</td>\n",
       "      <td>0.402068</td>\n",
       "      <td>0.583538</td>\n",
       "      <td>2.679627</td>\n",
       "      <td>126.0</td>\n",
       "      <td>1.014567e+07</td>\n",
       "      <td>...</td>\n",
       "      <td>2.628515e+07</td>\n",
       "      <td>1.168229e+08</td>\n",
       "      <td>126.0</td>\n",
       "      <td>7.026180e+07</td>\n",
       "      <td>1.574549e+08</td>\n",
       "      <td>0.0</td>\n",
       "      <td>0.0</td>\n",
       "      <td>9.680287e+06</td>\n",
       "      <td>5.829440e+07</td>\n",
       "      <td>8.427938e+08</td>\n",
       "    </tr>\n",
       "    <tr>\n",
       "      <th>1991</th>\n",
       "      <td>125.0</td>\n",
       "      <td>0.515138</td>\n",
       "      <td>0.540612</td>\n",
       "      <td>0.048237</td>\n",
       "      <td>0.232415</td>\n",
       "      <td>0.357891</td>\n",
       "      <td>0.633950</td>\n",
       "      <td>3.852269</td>\n",
       "      <td>125.0</td>\n",
       "      <td>1.172986e+07</td>\n",
       "      <td>...</td>\n",
       "      <td>3.042076e+07</td>\n",
       "      <td>1.601093e+08</td>\n",
       "      <td>125.0</td>\n",
       "      <td>6.028563e+07</td>\n",
       "      <td>1.334314e+08</td>\n",
       "      <td>0.0</td>\n",
       "      <td>0.0</td>\n",
       "      <td>3.227499e+06</td>\n",
       "      <td>5.570708e+07</td>\n",
       "      <td>8.325683e+08</td>\n",
       "    </tr>\n",
       "    <tr>\n",
       "      <th>1992</th>\n",
       "      <td>127.0</td>\n",
       "      <td>0.605446</td>\n",
       "      <td>0.665057</td>\n",
       "      <td>0.028515</td>\n",
       "      <td>0.265614</td>\n",
       "      <td>0.451555</td>\n",
       "      <td>0.701151</td>\n",
       "      <td>4.586426</td>\n",
       "      <td>127.0</td>\n",
       "      <td>1.131752e+07</td>\n",
       "      <td>...</td>\n",
       "      <td>2.719542e+07</td>\n",
       "      <td>1.243219e+08</td>\n",
       "      <td>127.0</td>\n",
       "      <td>7.437478e+07</td>\n",
       "      <td>1.399152e+08</td>\n",
       "      <td>0.0</td>\n",
       "      <td>0.0</td>\n",
       "      <td>1.666726e+07</td>\n",
       "      <td>7.339033e+07</td>\n",
       "      <td>7.833063e+08</td>\n",
       "    </tr>\n",
       "    <tr>\n",
       "      <th>1993</th>\n",
       "      <td>172.0</td>\n",
       "      <td>0.560883</td>\n",
       "      <td>0.437061</td>\n",
       "      <td>0.014992</td>\n",
       "      <td>0.271013</td>\n",
       "      <td>0.471346</td>\n",
       "      <td>0.710732</td>\n",
       "      <td>2.571339</td>\n",
       "      <td>172.0</td>\n",
       "      <td>1.033505e+07</td>\n",
       "      <td>...</td>\n",
       "      <td>2.754783e+07</td>\n",
       "      <td>1.283049e+08</td>\n",
       "      <td>172.0</td>\n",
       "      <td>6.101228e+07</td>\n",
       "      <td>1.482045e+08</td>\n",
       "      <td>0.0</td>\n",
       "      <td>0.0</td>\n",
       "      <td>8.490374e+06</td>\n",
       "      <td>4.909962e+07</td>\n",
       "      <td>1.388863e+09</td>\n",
       "    </tr>\n",
       "    <tr>\n",
       "      <th>1994</th>\n",
       "      <td>174.0</td>\n",
       "      <td>0.696182</td>\n",
       "      <td>1.038407</td>\n",
       "      <td>0.061916</td>\n",
       "      <td>0.271173</td>\n",
       "      <td>0.420384</td>\n",
       "      <td>0.724891</td>\n",
       "      <td>8.093754</td>\n",
       "      <td>174.0</td>\n",
       "      <td>1.275981e+07</td>\n",
       "      <td>...</td>\n",
       "      <td>3.383557e+07</td>\n",
       "      <td>1.691778e+08</td>\n",
       "      <td>174.0</td>\n",
       "      <td>5.995269e+07</td>\n",
       "      <td>1.536497e+08</td>\n",
       "      <td>0.0</td>\n",
       "      <td>0.0</td>\n",
       "      <td>0.000000e+00</td>\n",
       "      <td>3.234823e+07</td>\n",
       "      <td>1.159592e+09</td>\n",
       "    </tr>\n",
       "    <tr>\n",
       "      <th>1995</th>\n",
       "      <td>170.0</td>\n",
       "      <td>0.728288</td>\n",
       "      <td>0.695201</td>\n",
       "      <td>0.052554</td>\n",
       "      <td>0.315580</td>\n",
       "      <td>0.514108</td>\n",
       "      <td>0.868942</td>\n",
       "      <td>4.765359</td>\n",
       "      <td>170.0</td>\n",
       "      <td>1.665814e+07</td>\n",
       "      <td>...</td>\n",
       "      <td>3.684740e+07</td>\n",
       "      <td>2.504192e+08</td>\n",
       "      <td>170.0</td>\n",
       "      <td>7.699665e+07</td>\n",
       "      <td>1.712274e+08</td>\n",
       "      <td>0.0</td>\n",
       "      <td>0.0</td>\n",
       "      <td>8.859034e+06</td>\n",
       "      <td>5.594423e+07</td>\n",
       "      <td>1.583050e+09</td>\n",
       "    </tr>\n",
       "    <tr>\n",
       "      <th>1996</th>\n",
       "      <td>196.0</td>\n",
       "      <td>0.618728</td>\n",
       "      <td>0.568326</td>\n",
       "      <td>0.028143</td>\n",
       "      <td>0.312700</td>\n",
       "      <td>0.463802</td>\n",
       "      <td>0.732015</td>\n",
       "      <td>4.480733</td>\n",
       "      <td>196.0</td>\n",
       "      <td>1.873000e+07</td>\n",
       "      <td>...</td>\n",
       "      <td>4.448694e+07</td>\n",
       "      <td>1.390217e+08</td>\n",
       "      <td>196.0</td>\n",
       "      <td>5.889882e+07</td>\n",
       "      <td>1.334820e+08</td>\n",
       "      <td>0.0</td>\n",
       "      <td>0.0</td>\n",
       "      <td>2.611619e+05</td>\n",
       "      <td>4.781219e+07</td>\n",
       "      <td>1.135764e+09</td>\n",
       "    </tr>\n",
       "    <tr>\n",
       "      <th>1997</th>\n",
       "      <td>180.0</td>\n",
       "      <td>0.703757</td>\n",
       "      <td>0.685117</td>\n",
       "      <td>0.022145</td>\n",
       "      <td>0.264338</td>\n",
       "      <td>0.486144</td>\n",
       "      <td>0.855311</td>\n",
       "      <td>4.355219</td>\n",
       "      <td>180.0</td>\n",
       "      <td>2.639493e+07</td>\n",
       "      <td>...</td>\n",
       "      <td>5.230072e+07</td>\n",
       "      <td>2.716921e+08</td>\n",
       "      <td>180.0</td>\n",
       "      <td>8.041255e+07</td>\n",
       "      <td>2.172566e+08</td>\n",
       "      <td>0.0</td>\n",
       "      <td>0.0</td>\n",
       "      <td>7.815581e+06</td>\n",
       "      <td>6.804666e+07</td>\n",
       "      <td>2.506406e+09</td>\n",
       "    </tr>\n",
       "    <tr>\n",
       "      <th>1998</th>\n",
       "      <td>191.0</td>\n",
       "      <td>0.662964</td>\n",
       "      <td>0.600175</td>\n",
       "      <td>0.037178</td>\n",
       "      <td>0.255228</td>\n",
       "      <td>0.477036</td>\n",
       "      <td>0.889336</td>\n",
       "      <td>4.180540</td>\n",
       "      <td>191.0</td>\n",
       "      <td>2.352440e+07</td>\n",
       "      <td>...</td>\n",
       "      <td>5.016358e+07</td>\n",
       "      <td>1.872774e+08</td>\n",
       "      <td>191.0</td>\n",
       "      <td>6.642160e+07</td>\n",
       "      <td>1.266437e+08</td>\n",
       "      <td>0.0</td>\n",
       "      <td>0.0</td>\n",
       "      <td>2.649089e+06</td>\n",
       "      <td>7.046605e+07</td>\n",
       "      <td>7.408152e+08</td>\n",
       "    </tr>\n",
       "    <tr>\n",
       "      <th>1999</th>\n",
       "      <td>212.0</td>\n",
       "      <td>0.673304</td>\n",
       "      <td>0.955655</td>\n",
       "      <td>0.034182</td>\n",
       "      <td>0.238749</td>\n",
       "      <td>0.392423</td>\n",
       "      <td>0.754237</td>\n",
       "      <td>8.947905</td>\n",
       "      <td>212.0</td>\n",
       "      <td>2.710017e+07</td>\n",
       "      <td>...</td>\n",
       "      <td>5.890738e+07</td>\n",
       "      <td>2.225390e+08</td>\n",
       "      <td>212.0</td>\n",
       "      <td>7.011900e+07</td>\n",
       "      <td>1.520145e+08</td>\n",
       "      <td>0.0</td>\n",
       "      <td>0.0</td>\n",
       "      <td>5.335850e+06</td>\n",
       "      <td>7.111590e+07</td>\n",
       "      <td>1.209981e+09</td>\n",
       "    </tr>\n",
       "    <tr>\n",
       "      <th>2000</th>\n",
       "      <td>197.0</td>\n",
       "      <td>0.599521</td>\n",
       "      <td>0.575386</td>\n",
       "      <td>0.005784</td>\n",
       "      <td>0.210654</td>\n",
       "      <td>0.417675</td>\n",
       "      <td>0.768576</td>\n",
       "      <td>4.271452</td>\n",
       "      <td>197.0</td>\n",
       "      <td>2.911777e+07</td>\n",
       "      <td>...</td>\n",
       "      <td>5.698315e+07</td>\n",
       "      <td>1.614522e+08</td>\n",
       "      <td>197.0</td>\n",
       "      <td>7.018614e+07</td>\n",
       "      <td>1.217245e+08</td>\n",
       "      <td>0.0</td>\n",
       "      <td>0.0</td>\n",
       "      <td>6.606877e+06</td>\n",
       "      <td>8.826056e+07</td>\n",
       "      <td>6.918869e+08</td>\n",
       "    </tr>\n",
       "    <tr>\n",
       "      <th>2001</th>\n",
       "      <td>212.0</td>\n",
       "      <td>0.771896</td>\n",
       "      <td>1.013507</td>\n",
       "      <td>0.026783</td>\n",
       "      <td>0.268261</td>\n",
       "      <td>0.469691</td>\n",
       "      <td>0.867880</td>\n",
       "      <td>8.575419</td>\n",
       "      <td>212.0</td>\n",
       "      <td>2.650485e+07</td>\n",
       "      <td>...</td>\n",
       "      <td>4.987527e+07</td>\n",
       "      <td>1.724083e+08</td>\n",
       "      <td>212.0</td>\n",
       "      <td>7.760564e+07</td>\n",
       "      <td>1.610543e+08</td>\n",
       "      <td>0.0</td>\n",
       "      <td>0.0</td>\n",
       "      <td>1.271746e+07</td>\n",
       "      <td>8.763605e+07</td>\n",
       "      <td>1.202518e+09</td>\n",
       "    </tr>\n",
       "    <tr>\n",
       "      <th>2002</th>\n",
       "      <td>243.0</td>\n",
       "      <td>0.745345</td>\n",
       "      <td>0.880817</td>\n",
       "      <td>0.017708</td>\n",
       "      <td>0.254126</td>\n",
       "      <td>0.485311</td>\n",
       "      <td>0.924383</td>\n",
       "      <td>8.095275</td>\n",
       "      <td>243.0</td>\n",
       "      <td>2.399440e+07</td>\n",
       "      <td>...</td>\n",
       "      <td>4.485367e+07</td>\n",
       "      <td>1.697166e+08</td>\n",
       "      <td>243.0</td>\n",
       "      <td>7.291655e+07</td>\n",
       "      <td>1.585270e+08</td>\n",
       "      <td>0.0</td>\n",
       "      <td>0.0</td>\n",
       "      <td>7.775342e+06</td>\n",
       "      <td>7.571957e+07</td>\n",
       "      <td>1.122902e+09</td>\n",
       "    </tr>\n",
       "    <tr>\n",
       "      <th>2003</th>\n",
       "      <td>254.0</td>\n",
       "      <td>0.768583</td>\n",
       "      <td>1.011804</td>\n",
       "      <td>0.013546</td>\n",
       "      <td>0.246135</td>\n",
       "      <td>0.451680</td>\n",
       "      <td>0.889740</td>\n",
       "      <td>7.122455</td>\n",
       "      <td>254.0</td>\n",
       "      <td>2.451125e+07</td>\n",
       "      <td>...</td>\n",
       "      <td>4.237636e+07</td>\n",
       "      <td>2.370705e+08</td>\n",
       "      <td>254.0</td>\n",
       "      <td>7.060372e+07</td>\n",
       "      <td>1.555487e+08</td>\n",
       "      <td>0.0</td>\n",
       "      <td>0.0</td>\n",
       "      <td>1.895422e+06</td>\n",
       "      <td>8.114949e+07</td>\n",
       "      <td>1.326278e+09</td>\n",
       "    </tr>\n",
       "    <tr>\n",
       "      <th>2004</th>\n",
       "      <td>253.0</td>\n",
       "      <td>0.825507</td>\n",
       "      <td>0.822700</td>\n",
       "      <td>0.022891</td>\n",
       "      <td>0.287114</td>\n",
       "      <td>0.545686</td>\n",
       "      <td>1.039430</td>\n",
       "      <td>5.827781</td>\n",
       "      <td>253.0</td>\n",
       "      <td>2.794897e+07</td>\n",
       "      <td>...</td>\n",
       "      <td>4.617782e+07</td>\n",
       "      <td>2.308891e+08</td>\n",
       "      <td>253.0</td>\n",
       "      <td>7.641914e+07</td>\n",
       "      <td>1.536477e+08</td>\n",
       "      <td>0.0</td>\n",
       "      <td>0.0</td>\n",
       "      <td>1.445458e+07</td>\n",
       "      <td>8.605433e+07</td>\n",
       "      <td>1.061904e+09</td>\n",
       "    </tr>\n",
       "    <tr>\n",
       "      <th>2005</th>\n",
       "      <td>324.0</td>\n",
       "      <td>0.676685</td>\n",
       "      <td>0.730884</td>\n",
       "      <td>0.000973</td>\n",
       "      <td>0.262836</td>\n",
       "      <td>0.449346</td>\n",
       "      <td>0.828091</td>\n",
       "      <td>5.939927</td>\n",
       "      <td>324.0</td>\n",
       "      <td>2.251322e+07</td>\n",
       "      <td>...</td>\n",
       "      <td>3.405518e+07</td>\n",
       "      <td>2.311286e+08</td>\n",
       "      <td>324.0</td>\n",
       "      <td>5.688029e+07</td>\n",
       "      <td>1.290622e+08</td>\n",
       "      <td>0.0</td>\n",
       "      <td>0.0</td>\n",
       "      <td>2.419819e+06</td>\n",
       "      <td>6.135161e+07</td>\n",
       "      <td>1.000353e+09</td>\n",
       "    </tr>\n",
       "    <tr>\n",
       "      <th>2006</th>\n",
       "      <td>353.0</td>\n",
       "      <td>0.662656</td>\n",
       "      <td>0.708851</td>\n",
       "      <td>0.001115</td>\n",
       "      <td>0.245865</td>\n",
       "      <td>0.451217</td>\n",
       "      <td>0.826011</td>\n",
       "      <td>5.838503</td>\n",
       "      <td>353.0</td>\n",
       "      <td>2.051299e+07</td>\n",
       "      <td>...</td>\n",
       "      <td>2.704173e+07</td>\n",
       "      <td>2.920507e+08</td>\n",
       "      <td>353.0</td>\n",
       "      <td>4.979814e+07</td>\n",
       "      <td>1.187509e+08</td>\n",
       "      <td>0.0</td>\n",
       "      <td>0.0</td>\n",
       "      <td>1.815986e+06</td>\n",
       "      <td>4.643718e+07</td>\n",
       "      <td>1.152691e+09</td>\n",
       "    </tr>\n",
       "    <tr>\n",
       "      <th>2007</th>\n",
       "      <td>392.0</td>\n",
       "      <td>0.635896</td>\n",
       "      <td>0.642864</td>\n",
       "      <td>0.009512</td>\n",
       "      <td>0.228429</td>\n",
       "      <td>0.435877</td>\n",
       "      <td>0.783041</td>\n",
       "      <td>4.965391</td>\n",
       "      <td>392.0</td>\n",
       "      <td>1.937207e+07</td>\n",
       "      <td>...</td>\n",
       "      <td>2.208504e+07</td>\n",
       "      <td>3.155006e+08</td>\n",
       "      <td>392.0</td>\n",
       "      <td>5.205694e+07</td>\n",
       "      <td>1.344019e+08</td>\n",
       "      <td>0.0</td>\n",
       "      <td>0.0</td>\n",
       "      <td>0.000000e+00</td>\n",
       "      <td>3.671941e+07</td>\n",
       "      <td>1.010654e+09</td>\n",
       "    </tr>\n",
       "    <tr>\n",
       "      <th>2008</th>\n",
       "      <td>443.0</td>\n",
       "      <td>0.628929</td>\n",
       "      <td>0.753397</td>\n",
       "      <td>0.001317</td>\n",
       "      <td>0.234366</td>\n",
       "      <td>0.408518</td>\n",
       "      <td>0.746271</td>\n",
       "      <td>8.466668</td>\n",
       "      <td>443.0</td>\n",
       "      <td>1.741515e+07</td>\n",
       "      <td>...</td>\n",
       "      <td>2.025573e+07</td>\n",
       "      <td>2.278770e+08</td>\n",
       "      <td>443.0</td>\n",
       "      <td>4.412130e+07</td>\n",
       "      <td>1.158345e+08</td>\n",
       "      <td>0.0</td>\n",
       "      <td>0.0</td>\n",
       "      <td>0.000000e+00</td>\n",
       "      <td>2.893860e+07</td>\n",
       "      <td>1.014733e+09</td>\n",
       "    </tr>\n",
       "    <tr>\n",
       "      <th>2009</th>\n",
       "      <td>474.0</td>\n",
       "      <td>0.653179</td>\n",
       "      <td>0.845420</td>\n",
       "      <td>0.001423</td>\n",
       "      <td>0.251463</td>\n",
       "      <td>0.408858</td>\n",
       "      <td>0.725841</td>\n",
       "      <td>9.432768</td>\n",
       "      <td>474.0</td>\n",
       "      <td>1.803965e+07</td>\n",
       "      <td>...</td>\n",
       "      <td>2.032801e+07</td>\n",
       "      <td>2.541001e+08</td>\n",
       "      <td>474.0</td>\n",
       "      <td>4.755035e+07</td>\n",
       "      <td>1.743761e+08</td>\n",
       "      <td>0.0</td>\n",
       "      <td>0.0</td>\n",
       "      <td>0.000000e+00</td>\n",
       "      <td>2.599390e+07</td>\n",
       "      <td>2.827124e+09</td>\n",
       "    </tr>\n",
       "    <tr>\n",
       "      <th>2010</th>\n",
       "      <td>421.0</td>\n",
       "      <td>0.720678</td>\n",
       "      <td>0.864637</td>\n",
       "      <td>0.004569</td>\n",
       "      <td>0.256392</td>\n",
       "      <td>0.490141</td>\n",
       "      <td>0.856837</td>\n",
       "      <td>9.363643</td>\n",
       "      <td>421.0</td>\n",
       "      <td>2.216590e+07</td>\n",
       "      <td>...</td>\n",
       "      <td>2.200000e+07</td>\n",
       "      <td>4.250000e+08</td>\n",
       "      <td>421.0</td>\n",
       "      <td>5.215121e+07</td>\n",
       "      <td>1.376231e+08</td>\n",
       "      <td>0.0</td>\n",
       "      <td>0.0</td>\n",
       "      <td>4.300000e+01</td>\n",
       "      <td>3.200525e+07</td>\n",
       "      <td>1.063172e+09</td>\n",
       "    </tr>\n",
       "    <tr>\n",
       "      <th>2011</th>\n",
       "      <td>461.0</td>\n",
       "      <td>0.738569</td>\n",
       "      <td>0.839797</td>\n",
       "      <td>0.004886</td>\n",
       "      <td>0.271394</td>\n",
       "      <td>0.478285</td>\n",
       "      <td>0.907952</td>\n",
       "      <td>7.959228</td>\n",
       "      <td>461.0</td>\n",
       "      <td>1.947199e+07</td>\n",
       "      <td>...</td>\n",
       "      <td>2.423495e+07</td>\n",
       "      <td>3.683713e+08</td>\n",
       "      <td>461.0</td>\n",
       "      <td>4.981301e+07</td>\n",
       "      <td>1.335588e+08</td>\n",
       "      <td>0.0</td>\n",
       "      <td>0.0</td>\n",
       "      <td>1.694411e+04</td>\n",
       "      <td>3.364841e+07</td>\n",
       "      <td>1.287184e+09</td>\n",
       "    </tr>\n",
       "    <tr>\n",
       "      <th>2012</th>\n",
       "      <td>500.0</td>\n",
       "      <td>0.679848</td>\n",
       "      <td>0.920384</td>\n",
       "      <td>0.001372</td>\n",
       "      <td>0.203592</td>\n",
       "      <td>0.390292</td>\n",
       "      <td>0.756653</td>\n",
       "      <td>7.637767</td>\n",
       "      <td>500.0</td>\n",
       "      <td>1.651557e+07</td>\n",
       "      <td>...</td>\n",
       "      <td>1.234668e+07</td>\n",
       "      <td>2.469335e+08</td>\n",
       "      <td>500.0</td>\n",
       "      <td>4.679147e+07</td>\n",
       "      <td>1.473802e+08</td>\n",
       "      <td>0.0</td>\n",
       "      <td>0.0</td>\n",
       "      <td>0.000000e+00</td>\n",
       "      <td>9.574901e+06</td>\n",
       "      <td>1.443191e+09</td>\n",
       "    </tr>\n",
       "    <tr>\n",
       "      <th>2013</th>\n",
       "      <td>568.0</td>\n",
       "      <td>0.700243</td>\n",
       "      <td>0.868518</td>\n",
       "      <td>0.000620</td>\n",
       "      <td>0.215905</td>\n",
       "      <td>0.386977</td>\n",
       "      <td>0.863680</td>\n",
       "      <td>6.112766</td>\n",
       "      <td>568.0</td>\n",
       "      <td>1.620356e+07</td>\n",
       "      <td>...</td>\n",
       "      <td>1.123240e+07</td>\n",
       "      <td>2.386885e+08</td>\n",
       "      <td>568.0</td>\n",
       "      <td>4.070557e+07</td>\n",
       "      <td>1.292022e+08</td>\n",
       "      <td>0.0</td>\n",
       "      <td>0.0</td>\n",
       "      <td>0.000000e+00</td>\n",
       "      <td>9.923416e+06</td>\n",
       "      <td>1.192711e+09</td>\n",
       "    </tr>\n",
       "    <tr>\n",
       "      <th>2014</th>\n",
       "      <td>638.0</td>\n",
       "      <td>0.958302</td>\n",
       "      <td>1.819307</td>\n",
       "      <td>0.002922</td>\n",
       "      <td>0.201489</td>\n",
       "      <td>0.410256</td>\n",
       "      <td>0.892582</td>\n",
       "      <td>24.949134</td>\n",
       "      <td>638.0</td>\n",
       "      <td>1.239553e+07</td>\n",
       "      <td>...</td>\n",
       "      <td>5.526546e+06</td>\n",
       "      <td>2.302728e+08</td>\n",
       "      <td>638.0</td>\n",
       "      <td>3.512511e+07</td>\n",
       "      <td>1.101339e+08</td>\n",
       "      <td>0.0</td>\n",
       "      <td>0.0</td>\n",
       "      <td>0.000000e+00</td>\n",
       "      <td>3.065884e+06</td>\n",
       "      <td>8.797523e+08</td>\n",
       "    </tr>\n",
       "    <tr>\n",
       "      <th>2015</th>\n",
       "      <td>561.0</td>\n",
       "      <td>1.135148</td>\n",
       "      <td>2.343885</td>\n",
       "      <td>0.017050</td>\n",
       "      <td>0.242000</td>\n",
       "      <td>0.443525</td>\n",
       "      <td>1.144808</td>\n",
       "      <td>32.985763</td>\n",
       "      <td>561.0</td>\n",
       "      <td>1.353288e+07</td>\n",
       "      <td>...</td>\n",
       "      <td>8.831996e+06</td>\n",
       "      <td>2.575999e+08</td>\n",
       "      <td>561.0</td>\n",
       "      <td>4.388435e+07</td>\n",
       "      <td>1.628421e+08</td>\n",
       "      <td>0.0</td>\n",
       "      <td>0.0</td>\n",
       "      <td>0.000000e+00</td>\n",
       "      <td>7.740089e+06</td>\n",
       "      <td>1.902723e+09</td>\n",
       "    </tr>\n",
       "  </tbody>\n",
       "</table>\n",
       "<p>56 rows × 64 columns</p>\n",
       "</div>"
      ],
      "text/plain": [
       "             popularity                                                    \\\n",
       "                  count      mean       std       min       25%       50%   \n",
       "release_year                                                                \n",
       "1960               32.0  0.458932  0.541833  0.055821  0.158091  0.268273   \n",
       "1961               30.0  0.430438  0.533781  0.027527  0.179415  0.273879   \n",
       "1962               30.0  0.465245  0.571246  0.038819  0.211450  0.299075   \n",
       "1963               34.0  0.502706  0.551040  0.045417  0.184746  0.249940   \n",
       "1964               41.0  0.421091  0.625323  0.008990  0.131149  0.194941   \n",
       "1965               34.0  0.352522  0.401984  0.014759  0.145272  0.213382   \n",
       "1966               44.0  0.308457  0.243678  0.034555  0.141003  0.245917   \n",
       "1967               37.0  0.501166  0.607523  0.054432  0.161576  0.247575   \n",
       "1968               37.0  0.506612  0.558978  0.005265  0.190352  0.378658   \n",
       "1969               29.0  0.441299  0.383963  0.021121  0.214344  0.338357   \n",
       "1970               40.0  0.341638  0.305697  0.020760  0.194468  0.282984   \n",
       "1971               55.0  0.448112  0.545079  0.000188  0.141973  0.306073   \n",
       "1972               37.0  0.469449  0.915215  0.024345  0.198304  0.269252   \n",
       "1973               55.0  0.494462  0.447417  0.021941  0.202036  0.383880   \n",
       "1974               44.0  0.469544  0.561704  0.029670  0.189727  0.317458   \n",
       "1975               42.0  0.533266  0.672451  0.017468  0.180148  0.315883   \n",
       "1976               46.0  0.476533  0.515930  0.002381  0.194633  0.327108   \n",
       "1977               55.0  0.647046  1.622872  0.046957  0.156863  0.318679   \n",
       "1978               61.0  0.430003  0.376905  0.044675  0.177276  0.324081   \n",
       "1979               56.0  0.597555  0.786180  0.019263  0.166411  0.373479   \n",
       "1980               73.0  0.519920  0.737230  0.031133  0.156245  0.307691   \n",
       "1981               78.0  0.455818  0.607110  0.046679  0.162411  0.293978   \n",
       "1982               80.0  0.547968  0.654682  0.003659  0.169200  0.379799   \n",
       "1983               77.0  0.555111  0.683445  0.015727  0.218042  0.373977   \n",
       "1984              100.0  0.611466  0.679996  0.059713  0.236434  0.376775   \n",
       "1985              106.0  0.596628  0.696756  0.047123  0.230921  0.423010   \n",
       "1986              110.0  0.539466  0.396400  0.058402  0.279664  0.429353   \n",
       "1987              114.0  0.533222  0.501649  0.005529  0.224535  0.366848   \n",
       "1988              133.0  0.489926  0.483044  0.019075  0.205910  0.340089   \n",
       "1989              129.0  0.584273  0.694867  0.046709  0.217076  0.360056   \n",
       "1990              126.0  0.553660  0.546329  0.024987  0.255929  0.402068   \n",
       "1991              125.0  0.515138  0.540612  0.048237  0.232415  0.357891   \n",
       "1992              127.0  0.605446  0.665057  0.028515  0.265614  0.451555   \n",
       "1993              172.0  0.560883  0.437061  0.014992  0.271013  0.471346   \n",
       "1994              174.0  0.696182  1.038407  0.061916  0.271173  0.420384   \n",
       "1995              170.0  0.728288  0.695201  0.052554  0.315580  0.514108   \n",
       "1996              196.0  0.618728  0.568326  0.028143  0.312700  0.463802   \n",
       "1997              180.0  0.703757  0.685117  0.022145  0.264338  0.486144   \n",
       "1998              191.0  0.662964  0.600175  0.037178  0.255228  0.477036   \n",
       "1999              212.0  0.673304  0.955655  0.034182  0.238749  0.392423   \n",
       "2000              197.0  0.599521  0.575386  0.005784  0.210654  0.417675   \n",
       "2001              212.0  0.771896  1.013507  0.026783  0.268261  0.469691   \n",
       "2002              243.0  0.745345  0.880817  0.017708  0.254126  0.485311   \n",
       "2003              254.0  0.768583  1.011804  0.013546  0.246135  0.451680   \n",
       "2004              253.0  0.825507  0.822700  0.022891  0.287114  0.545686   \n",
       "2005              324.0  0.676685  0.730884  0.000973  0.262836  0.449346   \n",
       "2006              353.0  0.662656  0.708851  0.001115  0.245865  0.451217   \n",
       "2007              392.0  0.635896  0.642864  0.009512  0.228429  0.435877   \n",
       "2008              443.0  0.628929  0.753397  0.001317  0.234366  0.408518   \n",
       "2009              474.0  0.653179  0.845420  0.001423  0.251463  0.408858   \n",
       "2010              421.0  0.720678  0.864637  0.004569  0.256392  0.490141   \n",
       "2011              461.0  0.738569  0.839797  0.004886  0.271394  0.478285   \n",
       "2012              500.0  0.679848  0.920384  0.001372  0.203592  0.390292   \n",
       "2013              568.0  0.700243  0.868518  0.000620  0.215905  0.386977   \n",
       "2014              638.0  0.958302  1.819307  0.002922  0.201489  0.410256   \n",
       "2015              561.0  1.135148  2.343885  0.017050  0.242000  0.443525   \n",
       "\n",
       "                                  budget                ...    budget_adj  \\\n",
       "                   75%        max  count          mean  ...           75%   \n",
       "release_year                                            ...                 \n",
       "1960          0.434118   2.610362   32.0  6.892796e+05  ...  5.345401e+05   \n",
       "1961          0.389402   2.631987   30.0  1.537900e+06  ...  2.170221e+07   \n",
       "1962          0.524568   3.170651   30.0  1.824071e+06  ...  1.279500e+07   \n",
       "1963          0.655374   2.508235   34.0  2.156809e+06  ...  6.675168e+06   \n",
       "1964          0.371976   3.153791   41.0  9.630039e+05  ...  4.569674e+05   \n",
       "1965          0.327872   1.910465   34.0  2.064856e+06  ...  1.634983e+06   \n",
       "1966          0.397433   1.227582   44.0  1.308064e+06  ...  2.216945e+05   \n",
       "1967          0.527322   2.550704   37.0  2.720330e+06  ...  2.287867e+07   \n",
       "1968          0.698337   3.309196   37.0  1.944297e+06  ...  1.128413e+07   \n",
       "1969          0.567962   1.778746   29.0  1.452727e+06  ...  7.430330e+06   \n",
       "1970          0.390082   1.936962   40.0  3.174049e+06  ...  1.996190e+07   \n",
       "1971          0.541644   3.072555   55.0  1.381764e+06  ...  7.929700e+06   \n",
       "1972          0.432033   5.738034   37.0  9.805204e+05  ...  5.214561e+06   \n",
       "1973          0.652778   2.272486   55.0  1.185287e+06  ...  2.455580e+06   \n",
       "1974          0.463954   3.264571   44.0  1.749318e+06  ...  1.171905e+07   \n",
       "1975          0.524183   3.258151   42.0  1.339976e+06  ...  4.051821e+06   \n",
       "1976          0.568484   2.582657   46.0  2.655435e+06  ...  7.471811e+06   \n",
       "1977          0.531184  12.037933   55.0  2.937818e+06  ...  1.241234e+07   \n",
       "1978          0.512719   1.697618   61.0  3.426181e+06  ...  1.002810e+07   \n",
       "1979          0.574137   4.935897   56.0  4.550250e+06  ...  1.201822e+07   \n",
       "1980          0.590127   5.488441   73.0  4.965753e+06  ...  1.323018e+07   \n",
       "1981          0.508226   4.578300   78.0  4.343049e+06  ...  1.408937e+07   \n",
       "1982          0.610955   4.215642   80.0  5.472438e+06  ...  1.920696e+07   \n",
       "1983          0.589232   4.828854   77.0  6.727369e+06  ...  2.189312e+07   \n",
       "1984          0.634297   4.831966  100.0  7.292120e+06  ...  1.941614e+07   \n",
       "1985          0.689068   6.095293  106.0  7.063402e+06  ...  2.479050e+07   \n",
       "1986          0.677767   2.485419  110.0  6.306465e+06  ...  2.287817e+07   \n",
       "1987          0.612738   3.474728  114.0  6.223297e+06  ...  2.494805e+07   \n",
       "1988          0.573640   3.777441  133.0  6.938707e+06  ...  1.843891e+07   \n",
       "1989          0.547658   4.143585  129.0  8.369429e+06  ...  2.427399e+07   \n",
       "1990          0.583538   2.679627  126.0  1.014567e+07  ...  2.628515e+07   \n",
       "1991          0.633950   3.852269  125.0  1.172986e+07  ...  3.042076e+07   \n",
       "1992          0.701151   4.586426  127.0  1.131752e+07  ...  2.719542e+07   \n",
       "1993          0.710732   2.571339  172.0  1.033505e+07  ...  2.754783e+07   \n",
       "1994          0.724891   8.093754  174.0  1.275981e+07  ...  3.383557e+07   \n",
       "1995          0.868942   4.765359  170.0  1.665814e+07  ...  3.684740e+07   \n",
       "1996          0.732015   4.480733  196.0  1.873000e+07  ...  4.448694e+07   \n",
       "1997          0.855311   4.355219  180.0  2.639493e+07  ...  5.230072e+07   \n",
       "1998          0.889336   4.180540  191.0  2.352440e+07  ...  5.016358e+07   \n",
       "1999          0.754237   8.947905  212.0  2.710017e+07  ...  5.890738e+07   \n",
       "2000          0.768576   4.271452  197.0  2.911777e+07  ...  5.698315e+07   \n",
       "2001          0.867880   8.575419  212.0  2.650485e+07  ...  4.987527e+07   \n",
       "2002          0.924383   8.095275  243.0  2.399440e+07  ...  4.485367e+07   \n",
       "2003          0.889740   7.122455  254.0  2.451125e+07  ...  4.237636e+07   \n",
       "2004          1.039430   5.827781  253.0  2.794897e+07  ...  4.617782e+07   \n",
       "2005          0.828091   5.939927  324.0  2.251322e+07  ...  3.405518e+07   \n",
       "2006          0.826011   5.838503  353.0  2.051299e+07  ...  2.704173e+07   \n",
       "2007          0.783041   4.965391  392.0  1.937207e+07  ...  2.208504e+07   \n",
       "2008          0.746271   8.466668  443.0  1.741515e+07  ...  2.025573e+07   \n",
       "2009          0.725841   9.432768  474.0  1.803965e+07  ...  2.032801e+07   \n",
       "2010          0.856837   9.363643  421.0  2.216590e+07  ...  2.200000e+07   \n",
       "2011          0.907952   7.959228  461.0  1.947199e+07  ...  2.423495e+07   \n",
       "2012          0.756653   7.637767  500.0  1.651557e+07  ...  1.234668e+07   \n",
       "2013          0.863680   6.112766  568.0  1.620356e+07  ...  1.123240e+07   \n",
       "2014          0.892582  24.949134  638.0  1.239553e+07  ...  5.526546e+06   \n",
       "2015          1.144808  32.985763  561.0  1.353288e+07  ...  8.831996e+06   \n",
       "\n",
       "                           revenue_adj                                        \\\n",
       "                       max       count          mean           std  min  25%   \n",
       "release_year                                                                   \n",
       "1960          8.847561e+07        32.0  3.340991e+07  9.176779e+07  0.0  0.0   \n",
       "1961          4.376917e+07        30.0  8.212073e+07  2.905560e+08  0.0  0.0   \n",
       "1962          1.081267e+08        30.0  5.179988e+07  1.319758e+08  0.0  0.0   \n",
       "1963          2.215444e+08        34.0  3.924580e+07  1.181207e+08  0.0  0.0   \n",
       "1964          1.195145e+08        41.0  5.846812e+07  1.887859e+08  0.0  0.0   \n",
       "1965          1.384113e+08        34.0  9.324072e+07  2.797591e+08  0.0  0.0   \n",
       "1966          1.209243e+08        44.0  1.293778e+07  4.253753e+07  0.0  0.0   \n",
       "1967          1.634191e+08        37.0  1.303527e+08  2.763431e+08  0.0  0.0   \n",
       "1968          7.522756e+07        37.0  4.485409e+07  9.202032e+07  0.0  0.0   \n",
       "1969          7.133117e+07        29.0  5.000501e+07  1.479421e+08  0.0  0.0   \n",
       "1970          1.431331e+08        40.0  7.866032e+07  1.820513e+08  0.0  0.0   \n",
       "1971          1.077039e+08        55.0  3.964586e+07  1.077372e+08  0.0  0.0   \n",
       "1972          3.128737e+07        37.0  6.972434e+07  2.247772e+08  0.0  0.0   \n",
       "1973          7.366739e+07        55.0  1.092939e+08  3.338741e+08  0.0  0.0   \n",
       "1974          6.191197e+07        44.0  8.166549e+07  1.459223e+08  0.0  0.0   \n",
       "1975          6.077732e+07        42.0  9.237091e+07  3.050121e+08  0.0  0.0   \n",
       "1976          1.341094e+08        46.0  6.672199e+07  1.264304e+08  0.0  0.0   \n",
       "1977          7.915118e+07        55.0  1.426411e+08  4.214381e+08  0.0  0.0   \n",
       "1978          1.838485e+08        61.0  7.416339e+07  1.799033e+08  0.0  0.0   \n",
       "1979          1.051594e+08        56.0  9.039388e+07  1.442887e+08  0.0  0.0   \n",
       "1980          1.428860e+08        73.0  6.410884e+07  1.764383e+08  0.0  0.0   \n",
       "1981          7.674211e+07        78.0  5.456211e+07  1.263385e+08  0.0  0.0   \n",
       "1982          1.129821e+08        80.0  6.944005e+07  2.122078e+08  0.0  0.0   \n",
       "1983          8.888607e+07        77.0  6.560911e+07  1.573748e+08  0.0  0.0   \n",
       "1984          1.217444e+08       100.0  5.532077e+07  1.216594e+08  0.0  0.0   \n",
       "1985          1.013583e+08       106.0  5.499687e+07  1.204379e+08  0.0  0.0   \n",
       "1986          7.957626e+07       110.0  5.422158e+07  1.058258e+08  0.0  0.0   \n",
       "1987          7.676322e+07       114.0  5.828121e+07  1.034790e+08  0.0  0.0   \n",
       "1988          1.290724e+08       133.0  5.183637e+07  1.136993e+08  0.0  0.0   \n",
       "1989          1.231289e+08       129.0  7.042654e+07  1.420773e+08  0.0  0.0   \n",
       "1990          1.168229e+08       126.0  7.026180e+07  1.574549e+08  0.0  0.0   \n",
       "1991          1.601093e+08       125.0  6.028563e+07  1.334314e+08  0.0  0.0   \n",
       "1992          1.243219e+08       127.0  7.437478e+07  1.399152e+08  0.0  0.0   \n",
       "1993          1.283049e+08       172.0  6.101228e+07  1.482045e+08  0.0  0.0   \n",
       "1994          1.691778e+08       174.0  5.995269e+07  1.536497e+08  0.0  0.0   \n",
       "1995          2.504192e+08       170.0  7.699665e+07  1.712274e+08  0.0  0.0   \n",
       "1996          1.390217e+08       196.0  5.889882e+07  1.334820e+08  0.0  0.0   \n",
       "1997          2.716921e+08       180.0  8.041255e+07  2.172566e+08  0.0  0.0   \n",
       "1998          1.872774e+08       191.0  6.642160e+07  1.266437e+08  0.0  0.0   \n",
       "1999          2.225390e+08       212.0  7.011900e+07  1.520145e+08  0.0  0.0   \n",
       "2000          1.614522e+08       197.0  7.018614e+07  1.217245e+08  0.0  0.0   \n",
       "2001          1.724083e+08       212.0  7.760564e+07  1.610543e+08  0.0  0.0   \n",
       "2002          1.697166e+08       243.0  7.291655e+07  1.585270e+08  0.0  0.0   \n",
       "2003          2.370705e+08       254.0  7.060372e+07  1.555487e+08  0.0  0.0   \n",
       "2004          2.308891e+08       253.0  7.641914e+07  1.536477e+08  0.0  0.0   \n",
       "2005          2.311286e+08       324.0  5.688029e+07  1.290622e+08  0.0  0.0   \n",
       "2006          2.920507e+08       353.0  4.979814e+07  1.187509e+08  0.0  0.0   \n",
       "2007          3.155006e+08       392.0  5.205694e+07  1.344019e+08  0.0  0.0   \n",
       "2008          2.278770e+08       443.0  4.412130e+07  1.158345e+08  0.0  0.0   \n",
       "2009          2.541001e+08       474.0  4.755035e+07  1.743761e+08  0.0  0.0   \n",
       "2010          4.250000e+08       421.0  5.215121e+07  1.376231e+08  0.0  0.0   \n",
       "2011          3.683713e+08       461.0  4.981301e+07  1.335588e+08  0.0  0.0   \n",
       "2012          2.469335e+08       500.0  4.679147e+07  1.473802e+08  0.0  0.0   \n",
       "2013          2.386885e+08       568.0  4.070557e+07  1.292022e+08  0.0  0.0   \n",
       "2014          2.302728e+08       638.0  3.512511e+07  1.101339e+08  0.0  0.0   \n",
       "2015          2.575999e+08       561.0  4.388435e+07  1.628421e+08  0.0  0.0   \n",
       "\n",
       "                                                        \n",
       "                       50%           75%           max  \n",
       "release_year                                            \n",
       "1960          0.000000e+00  0.000000e+00  4.423780e+08  \n",
       "1961          0.000000e+00  3.082079e+07  1.574815e+09  \n",
       "1962          0.000000e+00  1.576848e+07  5.045914e+08  \n",
       "1963          0.000000e+00  0.000000e+00  5.617734e+08  \n",
       "1964          0.000000e+00  0.000000e+00  8.780804e+08  \n",
       "1965          0.000000e+00  0.000000e+00  1.129535e+09  \n",
       "1966          0.000000e+00  0.000000e+00  2.266436e+08  \n",
       "1967          0.000000e+00  1.060118e+08  1.345551e+09  \n",
       "1968          0.000000e+00  1.949648e+07  3.555466e+08  \n",
       "1969          0.000000e+00  0.000000e+00  6.081511e+08  \n",
       "1970          0.000000e+00  2.183363e+07  7.660726e+08  \n",
       "1971          0.000000e+00  6.561860e+06  6.246826e+08  \n",
       "1972          0.000000e+00  3.128737e+07  1.277914e+09  \n",
       "1973          0.000000e+00  2.908535e+07  2.167325e+09  \n",
       "1974          0.000000e+00  1.185551e+08  5.284629e+08  \n",
       "1975          0.000000e+00  5.579808e+07  1.907006e+09  \n",
       "1976          0.000000e+00  1.051683e+08  6.169034e+08  \n",
       "1977          0.000000e+00  9.788601e+07  2.789712e+09  \n",
       "1978          0.000000e+00  7.036068e+07  1.003539e+09  \n",
       "1979          0.000000e+00  1.152380e+08  6.318577e+08  \n",
       "1980          1.164256e+07  5.949072e+07  1.424626e+09  \n",
       "1981          3.791132e+05  6.863562e+07  9.351169e+08  \n",
       "1982          1.807714e+01  6.125279e+07  1.791694e+09  \n",
       "1983          2.012157e+07  6.108180e+07  1.253819e+09  \n",
       "1984          3.693538e+06  6.031819e+07  6.989810e+08  \n",
       "1985          1.773003e+07  5.178654e+07  7.725728e+08  \n",
       "1986          1.537765e+07  7.662681e+07  7.098811e+08  \n",
       "1987          2.175751e+07  7.488600e+07  6.143853e+08  \n",
       "1988          7.221236e+06  3.961924e+07  6.542594e+08  \n",
       "1989          6.966156e+06  6.852352e+07  8.340611e+08  \n",
       "1990          9.680287e+06  5.829440e+07  8.427938e+08  \n",
       "1991          3.227499e+06  5.570708e+07  8.325683e+08  \n",
       "1992          1.666726e+07  7.339033e+07  7.833063e+08  \n",
       "1993          8.490374e+06  4.909962e+07  1.388863e+09  \n",
       "1994          0.000000e+00  3.234823e+07  1.159592e+09  \n",
       "1995          8.859034e+06  5.594423e+07  1.583050e+09  \n",
       "1996          2.611619e+05  4.781219e+07  1.135764e+09  \n",
       "1997          7.815581e+06  6.804666e+07  2.506406e+09  \n",
       "1998          2.649089e+06  7.046605e+07  7.408152e+08  \n",
       "1999          5.335850e+06  7.111590e+07  1.209981e+09  \n",
       "2000          6.606877e+06  8.826056e+07  6.918869e+08  \n",
       "2001          1.271746e+07  8.763605e+07  1.202518e+09  \n",
       "2002          7.775342e+06  7.571957e+07  1.122902e+09  \n",
       "2003          1.895422e+06  8.114949e+07  1.326278e+09  \n",
       "2004          1.445458e+07  8.605433e+07  1.061904e+09  \n",
       "2005          2.419819e+06  6.135161e+07  1.000353e+09  \n",
       "2006          1.815986e+06  4.643718e+07  1.152691e+09  \n",
       "2007          0.000000e+00  3.671941e+07  1.010654e+09  \n",
       "2008          0.000000e+00  2.893860e+07  1.014733e+09  \n",
       "2009          0.000000e+00  2.599390e+07  2.827124e+09  \n",
       "2010          4.300000e+01  3.200525e+07  1.063172e+09  \n",
       "2011          1.694411e+04  3.364841e+07  1.287184e+09  \n",
       "2012          0.000000e+00  9.574901e+06  1.443191e+09  \n",
       "2013          0.000000e+00  9.923416e+06  1.192711e+09  \n",
       "2014          0.000000e+00  3.065884e+06  8.797523e+08  \n",
       "2015          0.000000e+00  7.740089e+06  1.902723e+09  \n",
       "\n",
       "[56 rows x 64 columns]"
      ]
     },
     "execution_count": 249,
     "metadata": {},
     "output_type": "execute_result"
    }
   ],
   "source": [
    "tmdb.groupby('release_year').describe()"
   ]
  },
  {
   "cell_type": "markdown",
   "metadata": {},
   "source": [
    "### here is some insightful points about TMDB datasets:\n",
    "\n",
    ">1- We can see that most top 5 genres for movies were Drama, Comedy, Thriller, Action, and then Romance.\n",
    "\n",
    ">2- And after analyzing the popularity with the release year we can see that the most popular movies were in 2015 and the latest popular movies were in  1960.\n",
    "\n",
    ">3- The largest revenue which was 2781505847 was for Avatar movies in 2009, by James Cameron.\n",
    "\n",
    ">4- other insights from the analysis were , Transmorphers and  Manos: The Hands of Fate make the lowest average Vote  . on the other hand,  Pink Floyd: Pulse was the higher average Vote.\n",
    "\n",
    ">5-  if I want to see which production companies make more movies, we can see that was the Top Paramount Pictures with 156 movies.\n",
    "\n",
    ">6- if I want to see who are many directors get in vote average of more than 8,  it seems likes the top 5 are  Woody Allen  , Clint Eastwood , Steven Spielberg , Martin Scorsese and Ridley Scott .\n",
    "\n",
    ">7-finally , we can see that there are 4 movies which get a vote average of more than or equals  8.5 . \n",
    "### limitation :\n",
    " I think there are some limitation wiht TMDB dataset :\n",
    "> 1- there is a lot of miising Data which I think  after drop it , make effect in analysing . \n",
    "\n",
    "> 2- the run time Cloumn  saves as int value which I think it would be better if it was float ,also , what's the unit for the time Hours or minutes ?! \n",
    "\n",
    "> 3- also , if there is values of Prize which indicates how many times the moives take Prize , it will be helpful \n",
    "during analysis we can find which moives takes higer prazie or which moives geners take more prize than other . \n",
    "\n"
   ]
  }
 ],
 "metadata": {
  "kernelspec": {
   "display_name": "Python 3",
   "language": "python",
   "name": "python3"
  },
  "language_info": {
   "codemirror_mode": {
    "name": "ipython",
    "version": 3
   },
   "file_extension": ".py",
   "mimetype": "text/x-python",
   "name": "python",
   "nbconvert_exporter": "python",
   "pygments_lexer": "ipython3",
   "version": "3.7.6"
  }
 },
 "nbformat": 4,
 "nbformat_minor": 4
}
